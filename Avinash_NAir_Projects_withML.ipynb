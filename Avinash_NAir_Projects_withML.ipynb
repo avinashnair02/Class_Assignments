{
 "cells": [
  {
   "cell_type": "code",
   "execution_count": 1,
   "metadata": {},
   "outputs": [],
   "source": [
    "import pandas as pd\n",
    "import numpy as np\n",
    "import matplotlib.pyplot as plt\n",
    "import seaborn as sns\n",
    "from sklearn.model_selection import train_test_split, StratifiedKFold, GridSearchCV, RandomizedSearchCV\n",
    "from sklearn.linear_model import LogisticRegression\n",
    "from sklearn.metrics import confusion_matrix, classification_report, f1_score, recall_score, precision_score, \\\n",
    "accuracy_score\n",
    "from sklearn.ensemble import RandomForestClassifier\n",
    "from xgboost import XGBClassifier\n",
    "from scipy.stats import skew\n",
    "from sklearn.preprocessing import PowerTransformer\n",
    "from sklearn import svm\n",
    "from imblearn.combine import SMOTEENN\n",
    "from collections import Counter\n",
    "from sklearn.model_selection import KFold\n",
    "from sklearn.model_selection import GridSearchCV,RandomizedSearchCV\n",
    "from sklearn.model_selection import StratifiedKFold\n",
    "\n"
   ]
  },
  {
   "cell_type": "code",
   "execution_count": 2,
   "metadata": {},
   "outputs": [
    {
     "data": {
      "text/html": [
       "<div>\n",
       "<style scoped>\n",
       "    .dataframe tbody tr th:only-of-type {\n",
       "        vertical-align: middle;\n",
       "    }\n",
       "\n",
       "    .dataframe tbody tr th {\n",
       "        vertical-align: top;\n",
       "    }\n",
       "\n",
       "    .dataframe thead th {\n",
       "        text-align: right;\n",
       "    }\n",
       "</style>\n",
       "<table border=\"1\" class=\"dataframe\">\n",
       "  <thead>\n",
       "    <tr style=\"text-align: right;\">\n",
       "      <th></th>\n",
       "      <th>Index</th>\n",
       "      <th>F1</th>\n",
       "      <th>F2</th>\n",
       "      <th>F3</th>\n",
       "      <th>F4</th>\n",
       "      <th>F5</th>\n",
       "      <th>F6</th>\n",
       "      <th>F7</th>\n",
       "      <th>F8</th>\n",
       "      <th>F9</th>\n",
       "      <th>...</th>\n",
       "      <th>F14</th>\n",
       "      <th>F15</th>\n",
       "      <th>F16</th>\n",
       "      <th>F17</th>\n",
       "      <th>F18</th>\n",
       "      <th>F19</th>\n",
       "      <th>F20</th>\n",
       "      <th>F21</th>\n",
       "      <th>F22</th>\n",
       "      <th>C</th>\n",
       "    </tr>\n",
       "  </thead>\n",
       "  <tbody>\n",
       "    <tr>\n",
       "      <th>0</th>\n",
       "      <td>1</td>\n",
       "      <td>0.224506</td>\n",
       "      <td>0.500340</td>\n",
       "      <td>0.489860</td>\n",
       "      <td>0.902413</td>\n",
       "      <td>7934</td>\n",
       "      <td>-6970</td>\n",
       "      <td>-5714</td>\n",
       "      <td>9982</td>\n",
       "      <td>-5697</td>\n",
       "      <td>...</td>\n",
       "      <td>-3433637453</td>\n",
       "      <td>10/4/1986</td>\n",
       "      <td>9/6/1992</td>\n",
       "      <td>2</td>\n",
       "      <td>1</td>\n",
       "      <td>706</td>\n",
       "      <td>305</td>\n",
       "      <td>1</td>\n",
       "      <td>2</td>\n",
       "      <td>0</td>\n",
       "    </tr>\n",
       "    <tr>\n",
       "      <th>1</th>\n",
       "      <td>2</td>\n",
       "      <td>0.321128</td>\n",
       "      <td>0.281119</td>\n",
       "      <td>0.907283</td>\n",
       "      <td>0.772159</td>\n",
       "      <td>-8238</td>\n",
       "      <td>1219</td>\n",
       "      <td>1663</td>\n",
       "      <td>1287</td>\n",
       "      <td>-3658</td>\n",
       "      <td>...</td>\n",
       "      <td>609277486</td>\n",
       "      <td>2/24/1979</td>\n",
       "      <td>1/5/1983</td>\n",
       "      <td>1</td>\n",
       "      <td>1</td>\n",
       "      <td>423</td>\n",
       "      <td>206</td>\n",
       "      <td>18</td>\n",
       "      <td>7</td>\n",
       "      <td>1</td>\n",
       "    </tr>\n",
       "    <tr>\n",
       "      <th>2</th>\n",
       "      <td>3</td>\n",
       "      <td>0.893441</td>\n",
       "      <td>0.622005</td>\n",
       "      <td>0.998776</td>\n",
       "      <td>0.098386</td>\n",
       "      <td>8540</td>\n",
       "      <td>5266</td>\n",
       "      <td>-9377</td>\n",
       "      <td>-3504</td>\n",
       "      <td>-4511</td>\n",
       "      <td>...</td>\n",
       "      <td>-8977995005</td>\n",
       "      <td>1/12/1989</td>\n",
       "      <td>11/22/1986</td>\n",
       "      <td>2</td>\n",
       "      <td>1</td>\n",
       "      <td>703</td>\n",
       "      <td>315</td>\n",
       "      <td>1</td>\n",
       "      <td>4</td>\n",
       "      <td>0</td>\n",
       "    </tr>\n",
       "    <tr>\n",
       "      <th>3</th>\n",
       "      <td>4</td>\n",
       "      <td>0.320641</td>\n",
       "      <td>0.957234</td>\n",
       "      <td>0.346000</td>\n",
       "      <td>0.646479</td>\n",
       "      <td>-7772</td>\n",
       "      <td>-383</td>\n",
       "      <td>9681</td>\n",
       "      <td>-8661</td>\n",
       "      <td>3474</td>\n",
       "      <td>...</td>\n",
       "      <td>4868760308</td>\n",
       "      <td>2/18/1982</td>\n",
       "      <td>6/10/1992</td>\n",
       "      <td>1</td>\n",
       "      <td>1</td>\n",
       "      <td>122</td>\n",
       "      <td>304</td>\n",
       "      <td>15</td>\n",
       "      <td>1</td>\n",
       "      <td>0</td>\n",
       "    </tr>\n",
       "    <tr>\n",
       "      <th>4</th>\n",
       "      <td>5</td>\n",
       "      <td>0.475961</td>\n",
       "      <td>0.623008</td>\n",
       "      <td>0.544988</td>\n",
       "      <td>0.159709</td>\n",
       "      <td>1571</td>\n",
       "      <td>-8039</td>\n",
       "      <td>-7961</td>\n",
       "      <td>-2385</td>\n",
       "      <td>4407</td>\n",
       "      <td>...</td>\n",
       "      <td>9757408267</td>\n",
       "      <td>4/10/1987</td>\n",
       "      <td>10/19/1985</td>\n",
       "      <td>1</td>\n",
       "      <td>1</td>\n",
       "      <td>486</td>\n",
       "      <td>240</td>\n",
       "      <td>1</td>\n",
       "      <td>1</td>\n",
       "      <td>0</td>\n",
       "    </tr>\n",
       "  </tbody>\n",
       "</table>\n",
       "<p>5 rows × 24 columns</p>\n",
       "</div>"
      ],
      "text/plain": [
       "   Index        F1        F2        F3        F4    F5    F6    F7    F8  \\\n",
       "0      1  0.224506  0.500340  0.489860  0.902413  7934 -6970 -5714  9982   \n",
       "1      2  0.321128  0.281119  0.907283  0.772159 -8238  1219  1663  1287   \n",
       "2      3  0.893441  0.622005  0.998776  0.098386  8540  5266 -9377 -3504   \n",
       "3      4  0.320641  0.957234  0.346000  0.646479 -7772  -383  9681 -8661   \n",
       "4      5  0.475961  0.623008  0.544988  0.159709  1571 -8039 -7961 -2385   \n",
       "\n",
       "     F9  ...         F14        F15         F16  F17  F18  F19  F20  F21  F22  \\\n",
       "0 -5697  ... -3433637453  10/4/1986    9/6/1992    2    1  706  305    1    2   \n",
       "1 -3658  ...   609277486  2/24/1979    1/5/1983    1    1  423  206   18    7   \n",
       "2 -4511  ... -8977995005  1/12/1989  11/22/1986    2    1  703  315    1    4   \n",
       "3  3474  ...  4868760308  2/18/1982   6/10/1992    1    1  122  304   15    1   \n",
       "4  4407  ...  9757408267  4/10/1987  10/19/1985    1    1  486  240    1    1   \n",
       "\n",
       "   C  \n",
       "0  0  \n",
       "1  1  \n",
       "2  0  \n",
       "3  0  \n",
       "4  0  \n",
       "\n",
       "[5 rows x 24 columns]"
      ]
     },
     "execution_count": 2,
     "metadata": {},
     "output_type": "execute_result"
    }
   ],
   "source": [
    "df=pd.read_csv('/Users/nair/Downloads/ClassificationProblem1.txt',sep=\"\\t\")\n",
    "df.head()"
   ]
  },
  {
   "cell_type": "code",
   "execution_count": 3,
   "metadata": {},
   "outputs": [
    {
     "data": {
      "text/html": [
       "<div>\n",
       "<style scoped>\n",
       "    .dataframe tbody tr th:only-of-type {\n",
       "        vertical-align: middle;\n",
       "    }\n",
       "\n",
       "    .dataframe tbody tr th {\n",
       "        vertical-align: top;\n",
       "    }\n",
       "\n",
       "    .dataframe thead th {\n",
       "        text-align: right;\n",
       "    }\n",
       "</style>\n",
       "<table border=\"1\" class=\"dataframe\">\n",
       "  <thead>\n",
       "    <tr style=\"text-align: right;\">\n",
       "      <th></th>\n",
       "      <th>Index</th>\n",
       "      <th>F1</th>\n",
       "      <th>F2</th>\n",
       "      <th>F3</th>\n",
       "      <th>F4</th>\n",
       "      <th>F5</th>\n",
       "      <th>F6</th>\n",
       "      <th>F7</th>\n",
       "      <th>F8</th>\n",
       "      <th>F9</th>\n",
       "      <th>...</th>\n",
       "      <th>F13</th>\n",
       "      <th>F14</th>\n",
       "      <th>F15</th>\n",
       "      <th>F16</th>\n",
       "      <th>F17</th>\n",
       "      <th>F18</th>\n",
       "      <th>F19</th>\n",
       "      <th>F20</th>\n",
       "      <th>F21</th>\n",
       "      <th>F22</th>\n",
       "    </tr>\n",
       "  </thead>\n",
       "  <tbody>\n",
       "    <tr>\n",
       "      <th>0</th>\n",
       "      <td>T30234341</td>\n",
       "      <td>0.654765</td>\n",
       "      <td>0.812009</td>\n",
       "      <td>0.603190</td>\n",
       "      <td>0.391039</td>\n",
       "      <td>-5220</td>\n",
       "      <td>4825</td>\n",
       "      <td>-1784</td>\n",
       "      <td>7447</td>\n",
       "      <td>-7147</td>\n",
       "      <td>...</td>\n",
       "      <td>8074343777</td>\n",
       "      <td>5553595074</td>\n",
       "      <td>9/17/1996</td>\n",
       "      <td>8/18/1990</td>\n",
       "      <td>1</td>\n",
       "      <td>1</td>\n",
       "      <td>436</td>\n",
       "      <td>478</td>\n",
       "      <td>1</td>\n",
       "      <td>1</td>\n",
       "    </tr>\n",
       "    <tr>\n",
       "      <th>1</th>\n",
       "      <td>T30234342</td>\n",
       "      <td>0.694636</td>\n",
       "      <td>0.690568</td>\n",
       "      <td>0.473460</td>\n",
       "      <td>0.259760</td>\n",
       "      <td>-618</td>\n",
       "      <td>-5018</td>\n",
       "      <td>2012</td>\n",
       "      <td>9259</td>\n",
       "      <td>9267</td>\n",
       "      <td>...</td>\n",
       "      <td>-5556861821</td>\n",
       "      <td>2216284070</td>\n",
       "      <td>11/7/1985</td>\n",
       "      <td>4/11/1990</td>\n",
       "      <td>1</td>\n",
       "      <td>1</td>\n",
       "      <td>138</td>\n",
       "      <td>56</td>\n",
       "      <td>10</td>\n",
       "      <td>4</td>\n",
       "    </tr>\n",
       "    <tr>\n",
       "      <th>2</th>\n",
       "      <td>T30234343</td>\n",
       "      <td>0.203759</td>\n",
       "      <td>0.323301</td>\n",
       "      <td>0.492294</td>\n",
       "      <td>0.011448</td>\n",
       "      <td>-8778</td>\n",
       "      <td>6141</td>\n",
       "      <td>6965</td>\n",
       "      <td>3774</td>\n",
       "      <td>4303</td>\n",
       "      <td>...</td>\n",
       "      <td>-2121815725</td>\n",
       "      <td>-315409510</td>\n",
       "      <td>7/9/1984</td>\n",
       "      <td>5/4/1997</td>\n",
       "      <td>1</td>\n",
       "      <td>1</td>\n",
       "      <td>117</td>\n",
       "      <td>323</td>\n",
       "      <td>10</td>\n",
       "      <td>1</td>\n",
       "    </tr>\n",
       "    <tr>\n",
       "      <th>3</th>\n",
       "      <td>T30234344</td>\n",
       "      <td>0.319627</td>\n",
       "      <td>0.286247</td>\n",
       "      <td>0.906197</td>\n",
       "      <td>0.093840</td>\n",
       "      <td>-7929</td>\n",
       "      <td>4471</td>\n",
       "      <td>7715</td>\n",
       "      <td>9543</td>\n",
       "      <td>335</td>\n",
       "      <td>...</td>\n",
       "      <td>1389754605</td>\n",
       "      <td>-3360224957</td>\n",
       "      <td>6/3/1987</td>\n",
       "      <td>7/1/1988</td>\n",
       "      <td>1</td>\n",
       "      <td>1</td>\n",
       "      <td>115</td>\n",
       "      <td>149</td>\n",
       "      <td>16</td>\n",
       "      <td>21</td>\n",
       "    </tr>\n",
       "    <tr>\n",
       "      <th>4</th>\n",
       "      <td>T30234345</td>\n",
       "      <td>0.236003</td>\n",
       "      <td>0.782784</td>\n",
       "      <td>0.285689</td>\n",
       "      <td>0.383585</td>\n",
       "      <td>-3296</td>\n",
       "      <td>4564</td>\n",
       "      <td>-1580</td>\n",
       "      <td>-8559</td>\n",
       "      <td>-27</td>\n",
       "      <td>...</td>\n",
       "      <td>3653338555</td>\n",
       "      <td>7604838279</td>\n",
       "      <td>7/17/1984</td>\n",
       "      <td>12/3/1993</td>\n",
       "      <td>1</td>\n",
       "      <td>1</td>\n",
       "      <td>527</td>\n",
       "      <td>281</td>\n",
       "      <td>3</td>\n",
       "      <td>1</td>\n",
       "    </tr>\n",
       "  </tbody>\n",
       "</table>\n",
       "<p>5 rows × 23 columns</p>\n",
       "</div>"
      ],
      "text/plain": [
       "       Index        F1        F2        F3        F4    F5    F6    F7    F8  \\\n",
       "0  T30234341  0.654765  0.812009  0.603190  0.391039 -5220  4825 -1784  7447   \n",
       "1  T30234342  0.694636  0.690568  0.473460  0.259760  -618 -5018  2012  9259   \n",
       "2  T30234343  0.203759  0.323301  0.492294  0.011448 -8778  6141  6965  3774   \n",
       "3  T30234344  0.319627  0.286247  0.906197  0.093840 -7929  4471  7715  9543   \n",
       "4  T30234345  0.236003  0.782784  0.285689  0.383585 -3296  4564 -1580 -8559   \n",
       "\n",
       "     F9  ...         F13         F14        F15        F16  F17 F18  F19  F20  \\\n",
       "0 -7147  ...  8074343777  5553595074  9/17/1996  8/18/1990    1   1  436  478   \n",
       "1  9267  ... -5556861821  2216284070  11/7/1985  4/11/1990    1   1  138   56   \n",
       "2  4303  ... -2121815725  -315409510   7/9/1984   5/4/1997    1   1  117  323   \n",
       "3   335  ...  1389754605 -3360224957   6/3/1987   7/1/1988    1   1  115  149   \n",
       "4   -27  ...  3653338555  7604838279  7/17/1984  12/3/1993    1   1  527  281   \n",
       "\n",
       "   F21  F22  \n",
       "0    1    1  \n",
       "1   10    4  \n",
       "2   10    1  \n",
       "3   16   21  \n",
       "4    3    1  \n",
       "\n",
       "[5 rows x 23 columns]"
      ]
     },
     "execution_count": 3,
     "metadata": {},
     "output_type": "execute_result"
    }
   ],
   "source": [
    "# test data\n",
    "df1=pd.read_csv('/Users/nair/Downloads/Classification1Test.txt',sep=\"\\t\")\n",
    "df1.head()"
   ]
  },
  {
   "cell_type": "code",
   "execution_count": 4,
   "metadata": {},
   "outputs": [
    {
     "data": {
      "text/plain": [
       "(19913, 23)"
      ]
     },
     "execution_count": 4,
     "metadata": {},
     "output_type": "execute_result"
    }
   ],
   "source": [
    "df1.shape"
   ]
  },
  {
   "cell_type": "code",
   "execution_count": 5,
   "metadata": {},
   "outputs": [
    {
     "data": {
      "text/plain": [
       "(101180, 24)"
      ]
     },
     "execution_count": 5,
     "metadata": {},
     "output_type": "execute_result"
    }
   ],
   "source": [
    "df.shape"
   ]
  },
  {
   "cell_type": "code",
   "execution_count": 6,
   "metadata": {},
   "outputs": [
    {
     "name": "stdout",
     "output_type": "stream",
     "text": [
      "<class 'pandas.core.frame.DataFrame'>\n",
      "RangeIndex: 101180 entries, 0 to 101179\n",
      "Data columns (total 24 columns):\n",
      " #   Column  Non-Null Count   Dtype  \n",
      "---  ------  --------------   -----  \n",
      " 0   Index   101180 non-null  int64  \n",
      " 1   F1      101180 non-null  float64\n",
      " 2   F2      101180 non-null  float64\n",
      " 3   F3      101180 non-null  float64\n",
      " 4   F4      101180 non-null  float64\n",
      " 5   F5      101180 non-null  int64  \n",
      " 6   F6      101180 non-null  int64  \n",
      " 7   F7      101180 non-null  int64  \n",
      " 8   F8      101180 non-null  int64  \n",
      " 9   F9      101180 non-null  int64  \n",
      " 10  F10     101180 non-null  int64  \n",
      " 11  F11     101180 non-null  int64  \n",
      " 12  F12     101180 non-null  int64  \n",
      " 13  F13     101180 non-null  int64  \n",
      " 14  F14     101180 non-null  int64  \n",
      " 15  F15     101180 non-null  object \n",
      " 16  F16     101180 non-null  object \n",
      " 17  F17     101180 non-null  int64  \n",
      " 18  F18     101180 non-null  int64  \n",
      " 19  F19     101180 non-null  int64  \n",
      " 20  F20     101180 non-null  int64  \n",
      " 21  F21     101180 non-null  int64  \n",
      " 22  F22     101180 non-null  int64  \n",
      " 23  C       101180 non-null  int64  \n",
      "dtypes: float64(4), int64(18), object(2)\n",
      "memory usage: 18.5+ MB\n"
     ]
    }
   ],
   "source": [
    "df.info()"
   ]
  },
  {
   "cell_type": "code",
   "execution_count": 7,
   "metadata": {},
   "outputs": [
    {
     "data": {
      "text/plain": [
       "0"
      ]
     },
     "execution_count": 7,
     "metadata": {},
     "output_type": "execute_result"
    }
   ],
   "source": [
    "df.isnull().sum().sum()"
   ]
  },
  {
   "cell_type": "code",
   "execution_count": 8,
   "metadata": {},
   "outputs": [
    {
     "name": "stdout",
     "output_type": "stream",
     "text": [
      "Index-------100.0\n",
      "F1-------99.99604664953549\n",
      "F2-------99.98912828622257\n",
      "F3-------99.99901166238386\n",
      "F4-------99.99802332476774\n",
      "F5-------19.64419845819332\n",
      "F6-------19.630361731567504\n",
      "F7-------19.633326744415893\n",
      "F8-------19.63431508203202\n",
      "F9-------19.655070171970745\n",
      "F10-------99.99901166238386\n",
      "F11-------100.0\n",
      "F12-------100.0\n",
      "F13-------99.99802332476774\n",
      "F14-------100.0\n",
      "F15-------7.9373393951373785\n",
      "F16-------6.22652698161692\n",
      "F17-------0.00494168808064835\n",
      "F18-------0.00494168808064835\n",
      "F19-------0.6384661000197668\n",
      "F20-------0.6384661000197668\n",
      "F21-------0.02075508993872307\n",
      "F22-------0.02075508993872307\n",
      "C-------0.0019766752322593396\n"
     ]
    }
   ],
   "source": [
    "#Finding the unique values in percentagee..\n",
    "\n",
    "obs=df.shape[0]\n",
    "for col in df.columns:\n",
    "    print(f\"{col}-------{100*df[col].nunique()/obs}\")"
   ]
  },
  {
   "cell_type": "code",
   "execution_count": 9,
   "metadata": {},
   "outputs": [
    {
     "name": "stdout",
     "output_type": "stream",
     "text": [
      "Unique values in Index 101180\n",
      "Unique values in F1 101176\n",
      "Unique values in F2 101169\n",
      "Unique values in F3 101179\n",
      "Unique values in F4 101178\n",
      "Unique values in F5 19876\n",
      "Unique values in F6 19862\n",
      "Unique values in F7 19865\n",
      "Unique values in F8 19866\n",
      "Unique values in F9 19887\n",
      "Unique values in F10 101179\n",
      "Unique values in F11 101180\n",
      "Unique values in F12 101180\n",
      "Unique values in F13 101178\n",
      "Unique values in F14 101180\n",
      "Unique values in F15 8031\n",
      "Unique values in F16 6300\n",
      "Unique values in F17 5\n",
      "Unique values in F18 5\n",
      "Unique values in F19 646\n",
      "Unique values in F20 646\n",
      "Unique values in F21 21\n",
      "Unique values in F22 21\n",
      "Unique values in C 2\n"
     ]
    }
   ],
   "source": [
    "a=df.shape[0]\n",
    "s=df.columns\n",
    "for i in s:\n",
    "    print (f\"Unique values in {i} {(df[i].nunique())}\")"
   ]
  },
  {
   "cell_type": "code",
   "execution_count": 10,
   "metadata": {},
   "outputs": [],
   "source": [
    "high_cardinality_features=['F10','F11','F12','F13','F14']\n",
    "#Dtype=int and High Cardinality hence dropped not requireddd"
   ]
  },
  {
   "cell_type": "code",
   "execution_count": 11,
   "metadata": {},
   "outputs": [],
   "source": [
    "data_copy=df.copy()"
   ]
  },
  {
   "cell_type": "code",
   "execution_count": 12,
   "metadata": {},
   "outputs": [],
   "source": [
    "\n",
    "data_copy.drop(columns=high_cardinality_features,inplace=True)"
   ]
  },
  {
   "cell_type": "code",
   "execution_count": 13,
   "metadata": {},
   "outputs": [
    {
     "name": "stdout",
     "output_type": "stream",
     "text": [
      "Index  - >     100.0\n",
      "F1  - >     99.99604664953549\n",
      "F2  - >     99.98912828622257\n",
      "F3  - >     99.99901166238386\n",
      "F4  - >     99.99802332476774\n",
      "F5  - >     19.64419845819332\n",
      "F6  - >     19.630361731567504\n",
      "F7  - >     19.633326744415893\n",
      "F8  - >     19.63431508203202\n",
      "F9  - >     19.655070171970745\n",
      "F15  - >     7.9373393951373785\n",
      "F16  - >     6.22652698161692\n",
      "F17  - >     0.00494168808064835\n",
      "F18  - >     0.00494168808064835\n",
      "F19  - >     0.6384661000197668\n",
      "F20  - >     0.6384661000197668\n",
      "F21  - >     0.02075508993872307\n",
      "F22  - >     0.02075508993872307\n",
      "C  - >     0.0019766752322593396\n"
     ]
    }
   ],
   "source": [
    "obs = data_copy.shape[0]\n",
    "for col in data_copy.columns:\n",
    "    print(f\"{col}  - >     {100*data_copy[col].nunique()/obs}\")"
   ]
  },
  {
   "cell_type": "code",
   "execution_count": 14,
   "metadata": {},
   "outputs": [
    {
     "name": "stdout",
     "output_type": "stream",
     "text": [
      "unique values in Index 101180\n",
      "unique values in F1 101176\n",
      "unique values in F2 101169\n",
      "unique values in F3 101179\n",
      "unique values in F4 101178\n",
      "unique values in F5 19876\n",
      "unique values in F6 19862\n",
      "unique values in F7 19865\n",
      "unique values in F8 19866\n",
      "unique values in F9 19887\n",
      "unique values in F15 8031\n",
      "unique values in F16 6300\n",
      "unique values in F17 5\n",
      "unique values in F18 5\n",
      "unique values in F19 646\n",
      "unique values in F20 646\n",
      "unique values in F21 21\n",
      "unique values in F22 21\n",
      "unique values in C 2\n"
     ]
    }
   ],
   "source": [
    "a=data_copy.columns\n",
    "for i in a:\n",
    "    print (f\"unique values in {i} {data_copy[i].nunique()}\")\n",
    "    \n",
    "    "
   ]
  },
  {
   "cell_type": "code",
   "execution_count": 15,
   "metadata": {},
   "outputs": [],
   "source": [
    "#THese are date colums  are in objects so need to  sperate it to day date and month\n",
    "date_columns=['F15', 'F16']"
   ]
  },
  {
   "cell_type": "code",
   "execution_count": 16,
   "metadata": {},
   "outputs": [],
   "source": [
    "for col in date_columns:\n",
    "    data_copy[col] = pd.to_datetime(data_copy[col])"
   ]
  },
  {
   "cell_type": "code",
   "execution_count": 17,
   "metadata": {},
   "outputs": [],
   "source": [
    "# Date columns as month day year seperately for analysiss\n",
    "data_copy['F15_Month'] = data_copy['F15'].dt.month\n",
    "data_copy['F15_Day'] = data_copy['F15'].dt.day\n",
    "data_copy['F15_Year'] = data_copy['F15'].dt.year\n",
    "#THis is for the F16 columss\n",
    "data_copy['F16_Month'] = data_copy['F16'].dt.month\n",
    "data_copy['F16_Day'] = data_copy['F16'].dt.day\n",
    "data_copy['F16_Year'] = data_copy['F16'].dt.year"
   ]
  },
  {
   "cell_type": "code",
   "execution_count": 18,
   "metadata": {},
   "outputs": [
    {
     "data": {
      "text/plain": [
       "Index                 int64\n",
       "F1                  float64\n",
       "F2                  float64\n",
       "F3                  float64\n",
       "F4                  float64\n",
       "F5                    int64\n",
       "F6                    int64\n",
       "F7                    int64\n",
       "F8                    int64\n",
       "F9                    int64\n",
       "F15          datetime64[ns]\n",
       "F16          datetime64[ns]\n",
       "F17                   int64\n",
       "F18                   int64\n",
       "F19                   int64\n",
       "F20                   int64\n",
       "F21                   int64\n",
       "F22                   int64\n",
       "C                     int64\n",
       "F15_Month             int64\n",
       "F15_Day               int64\n",
       "F15_Year              int64\n",
       "F16_Month             int64\n",
       "F16_Day               int64\n",
       "F16_Year              int64\n",
       "dtype: object"
      ]
     },
     "execution_count": 18,
     "metadata": {},
     "output_type": "execute_result"
    }
   ],
   "source": [
    "data_copy.dtypes"
   ]
  },
  {
   "cell_type": "code",
   "execution_count": 19,
   "metadata": {},
   "outputs": [],
   "source": [
    "#so date colums have been changeed into date time\n",
    " # Droppping the F15 and F16 colums as its no more needed\n",
    "data_copy.drop(columns=['F15','F16'],inplace=True) "
   ]
  },
  {
   "cell_type": "markdown",
   "metadata": {},
   "source": [
    "# EDA"
   ]
  },
  {
   "cell_type": "markdown",
   "metadata": {},
   "source": [
    "# UNIVARIENT ANALYSIS"
   ]
  },
  {
   "cell_type": "code",
   "execution_count": 20,
   "metadata": {},
   "outputs": [
    {
     "name": "stderr",
     "output_type": "stream",
     "text": [
      "/Users/nair/opt/anaconda3/lib/python3.8/site-packages/seaborn/_decorators.py:36: FutureWarning: Pass the following variable as a keyword arg: x. From version 0.12, the only valid positional argument will be `data`, and passing other arguments without an explicit keyword will result in an error or misinterpretation.\n",
      "  warnings.warn(\n"
     ]
    },
    {
     "data": {
      "image/png": "[encoded data removed]",
      "text/plain": [
       "<Figure size 432x288 with 1 Axes>"
      ]
     },
     "metadata": {
      "needs_background": "light"
     },
     "output_type": "display_data"
    }
   ],
   "source": [
    "sns.countplot(data_copy['C'])\n",
    "plt.show()  # Unbalanced dataset\n",
    "#HEre class 0 is dominating "
   ]
  },
  {
   "cell_type": "code",
   "execution_count": 21,
   "metadata": {},
   "outputs": [
    {
     "name": "stderr",
     "output_type": "stream",
     "text": [
      "/Users/nair/opt/anaconda3/lib/python3.8/site-packages/seaborn/distributions.py:2551: FutureWarning: `distplot` is a deprecated function and will be removed in a future version. Please adapt your code to use either `displot` (a figure-level function with similar flexibility) or `histplot` (an axes-level function for histograms).\n",
      "  warnings.warn(msg, FutureWarning)\n"
     ]
    },
    {
     "data": {
      "image/png": "[encoded data removed]",
      "text/plain": [
       "<Figure size 432x288 with 1 Axes>"
      ]
     },
     "metadata": {
      "needs_background": "light"
     },
     "output_type": "display_data"
    }
   ],
   "source": [
    "sns.distplot(data_copy['F1'])\n",
    "plt.show()  #Uniformly distributed"
   ]
  },
  {
   "cell_type": "code",
   "execution_count": 22,
   "metadata": {},
   "outputs": [
    {
     "name": "stderr",
     "output_type": "stream",
     "text": [
      "/Users/nair/opt/anaconda3/lib/python3.8/site-packages/seaborn/distributions.py:2551: FutureWarning: `distplot` is a deprecated function and will be removed in a future version. Please adapt your code to use either `displot` (a figure-level function with similar flexibility) or `histplot` (an axes-level function for histograms).\n",
      "  warnings.warn(msg, FutureWarning)\n"
     ]
    },
    {
     "data": {
      "image/png": "[encoded data removed]",
      "text/plain": [
       "<Figure size 432x288 with 1 Axes>"
      ]
     },
     "metadata": {
      "needs_background": "light"
     },
     "output_type": "display_data"
    }
   ],
   "source": [
    "sns.distplot(data_copy['F2'])\n",
    "plt.show()  #Uniformly distributed"
   ]
  },
  {
   "cell_type": "code",
   "execution_count": 23,
   "metadata": {},
   "outputs": [
    {
     "name": "stderr",
     "output_type": "stream",
     "text": [
      "/Users/nair/opt/anaconda3/lib/python3.8/site-packages/seaborn/distributions.py:2551: FutureWarning: `distplot` is a deprecated function and will be removed in a future version. Please adapt your code to use either `displot` (a figure-level function with similar flexibility) or `histplot` (an axes-level function for histograms).\n",
      "  warnings.warn(msg, FutureWarning)\n"
     ]
    },
    {
     "data": {
      "image/png": "[encoded data removed]",
      "text/plain": [
       "<Figure size 432x288 with 1 Axes>"
      ]
     },
     "metadata": {
      "needs_background": "light"
     },
     "output_type": "display_data"
    }
   ],
   "source": [
    "sns.distplot(data_copy['F21'])\n",
    "plt.show() #Uniformly distributed"
   ]
  },
  {
   "cell_type": "markdown",
   "metadata": {},
   "source": [
    "# PLotting for catergorical Data"
   ]
  },
  {
   "cell_type": "code",
   "execution_count": 24,
   "metadata": {},
   "outputs": [
    {
     "name": "stderr",
     "output_type": "stream",
     "text": [
      "/Users/nair/opt/anaconda3/lib/python3.8/site-packages/seaborn/_decorators.py:36: FutureWarning: Pass the following variable as a keyword arg: x. From version 0.12, the only valid positional argument will be `data`, and passing other arguments without an explicit keyword will result in an error or misinterpretation.\n",
      "  warnings.warn(\n"
     ]
    },
    {
     "data": {
      "image/png": "[encoded data removed]",
      "text/plain": [
       "<Figure size 432x288 with 1 Axes>"
      ]
     },
     "metadata": {
      "needs_background": "light"
     },
     "output_type": "display_data"
    }
   ],
   "source": [
    "sns.countplot(data_copy['F21'])\n",
    "plt.show() # Categorical Data"
   ]
  },
  {
   "cell_type": "code",
   "execution_count": 25,
   "metadata": {},
   "outputs": [
    {
     "name": "stderr",
     "output_type": "stream",
     "text": [
      "/Users/nair/opt/anaconda3/lib/python3.8/site-packages/seaborn/_decorators.py:36: FutureWarning: Pass the following variable as a keyword arg: x. From version 0.12, the only valid positional argument will be `data`, and passing other arguments without an explicit keyword will result in an error or misinterpretation.\n",
      "  warnings.warn(\n"
     ]
    },
    {
     "data": {
      "image/png": "[encoded data removed]",
      "text/plain": [
       "<Figure size 432x288 with 1 Axes>"
      ]
     },
     "metadata": {
      "needs_background": "light"
     },
     "output_type": "display_data"
    }
   ],
   "source": [
    "sns.countplot(data_copy['F19'])\n",
    "plt.show() # Categorical Data"
   ]
  },
  {
   "cell_type": "code",
   "execution_count": 26,
   "metadata": {},
   "outputs": [
    {
     "name": "stderr",
     "output_type": "stream",
     "text": [
      "/Users/nair/opt/anaconda3/lib/python3.8/site-packages/seaborn/_decorators.py:36: FutureWarning: Pass the following variable as a keyword arg: x. From version 0.12, the only valid positional argument will be `data`, and passing other arguments without an explicit keyword will result in an error or misinterpretation.\n",
      "  warnings.warn(\n"
     ]
    },
    {
     "data": {
      "image/png": "[encoded data removed]",
      "text/plain": [
       "<Figure size 432x288 with 1 Axes>"
      ]
     },
     "metadata": {
      "needs_background": "light"
     },
     "output_type": "display_data"
    }
   ],
   "source": [
    "sns.countplot(data_copy['F18'])\n",
    "plt.show()"
   ]
  },
  {
   "cell_type": "code",
   "execution_count": 27,
   "metadata": {},
   "outputs": [
    {
     "name": "stderr",
     "output_type": "stream",
     "text": [
      "/Users/nair/opt/anaconda3/lib/python3.8/site-packages/seaborn/_decorators.py:36: FutureWarning: Pass the following variable as a keyword arg: x. From version 0.12, the only valid positional argument will be `data`, and passing other arguments without an explicit keyword will result in an error or misinterpretation.\n",
      "  warnings.warn(\n"
     ]
    },
    {
     "data": {
      "image/png": "[encoded data removed]",
      "text/plain": [
       "<Figure size 432x288 with 1 Axes>"
      ]
     },
     "metadata": {
      "needs_background": "light"
     },
     "output_type": "display_data"
    }
   ],
   "source": [
    "#PLotting YEar date and day\n",
    "\n",
    "sns.countplot(data_copy['F16_Day'])\n",
    "plt.show() "
   ]
  },
  {
   "cell_type": "code",
   "execution_count": 28,
   "metadata": {},
   "outputs": [
    {
     "name": "stderr",
     "output_type": "stream",
     "text": [
      "/Users/nair/opt/anaconda3/lib/python3.8/site-packages/seaborn/_decorators.py:36: FutureWarning: Pass the following variable as a keyword arg: x. From version 0.12, the only valid positional argument will be `data`, and passing other arguments without an explicit keyword will result in an error or misinterpretation.\n",
      "  warnings.warn(\n"
     ]
    },
    {
     "data": {
      "image/png": "[encoded data removed]",
      "text/plain": [
       "<Figure size 432x288 with 1 Axes>"
      ]
     },
     "metadata": {
      "needs_background": "light"
     },
     "output_type": "display_data"
    }
   ],
   "source": [
    "sns.countplot(data_copy['F16_Month'])\n",
    "plt.show()"
   ]
  },
  {
   "cell_type": "code",
   "execution_count": 29,
   "metadata": {},
   "outputs": [
    {
     "name": "stderr",
     "output_type": "stream",
     "text": [
      "/Users/nair/opt/anaconda3/lib/python3.8/site-packages/seaborn/_decorators.py:36: FutureWarning: Pass the following variable as a keyword arg: x. From version 0.12, the only valid positional argument will be `data`, and passing other arguments without an explicit keyword will result in an error or misinterpretation.\n",
      "  warnings.warn(\n"
     ]
    },
    {
     "data": {
      "image/png": "[encoded data removed]",
      "text/plain": [
       "<Figure size 432x288 with 1 Axes>"
      ]
     },
     "metadata": {
      "needs_background": "light"
     },
     "output_type": "display_data"
    }
   ],
   "source": [
    "sns.countplot(data_copy['F16_Year'])\n",
    "plt.show() "
   ]
  },
  {
   "cell_type": "code",
   "execution_count": 30,
   "metadata": {},
   "outputs": [
    {
     "name": "stderr",
     "output_type": "stream",
     "text": [
      "/Users/nair/opt/anaconda3/lib/python3.8/site-packages/seaborn/_decorators.py:36: FutureWarning: Pass the following variable as a keyword arg: x. From version 0.12, the only valid positional argument will be `data`, and passing other arguments without an explicit keyword will result in an error or misinterpretation.\n",
      "  warnings.warn(\n"
     ]
    },
    {
     "data": {
      "image/png": "[encoded data removed]",
      "text/plain": [
       "<Figure size 432x288 with 1 Axes>"
      ]
     },
     "metadata": {
      "needs_background": "light"
     },
     "output_type": "display_data"
    }
   ],
   "source": [
    "sns.countplot(data_copy['F16_Year'])\n",
    "plt.show() "
   ]
  },
  {
   "cell_type": "code",
   "execution_count": 31,
   "metadata": {},
   "outputs": [
    {
     "name": "stderr",
     "output_type": "stream",
     "text": [
      "/Users/nair/opt/anaconda3/lib/python3.8/site-packages/seaborn/_decorators.py:36: FutureWarning: Pass the following variable as a keyword arg: x. From version 0.12, the only valid positional argument will be `data`, and passing other arguments without an explicit keyword will result in an error or misinterpretation.\n",
      "  warnings.warn(\n"
     ]
    },
    {
     "data": {
      "image/png": "[encoded data removed]",
      "text/plain": [
       "<Figure size 432x288 with 1 Axes>"
      ]
     },
     "metadata": {
      "needs_background": "light"
     },
     "output_type": "display_data"
    }
   ],
   "source": [
    "sns.countplot(data_copy['F15_Month'])\n",
    "plt.show() "
   ]
  },
  {
   "cell_type": "code",
   "execution_count": 32,
   "metadata": {},
   "outputs": [
    {
     "data": {
      "text/plain": [
       "<AxesSubplot:xlabel='C', ylabel='F15_Month'>"
      ]
     },
     "execution_count": 32,
     "metadata": {},
     "output_type": "execute_result"
    },
    {
     "data": {
      "image/png": "[encoded data removed]",
      "text/plain": [
       "<Figure size 432x288 with 1 Axes>"
      ]
     },
     "metadata": {
      "needs_background": "light"
     },
     "output_type": "display_data"
    }
   ],
   "source": [
    "sns.boxplot(x='C',y='F15_Month',data=data_copy)"
   ]
  },
  {
   "cell_type": "code",
   "execution_count": 33,
   "metadata": {},
   "outputs": [
    {
     "name": "stderr",
     "output_type": "stream",
     "text": [
      "/Users/nair/opt/anaconda3/lib/python3.8/site-packages/seaborn/_decorators.py:36: FutureWarning: Pass the following variable as a keyword arg: x. From version 0.12, the only valid positional argument will be `data`, and passing other arguments without an explicit keyword will result in an error or misinterpretation.\n",
      "  warnings.warn(\n"
     ]
    },
    {
     "data": {
      "image/png": "[encoded data removed]",
      "text/plain": [
       "<Figure size 1224x504 with 1 Axes>"
      ]
     },
     "metadata": {
      "needs_background": "light"
     },
     "output_type": "display_data"
    }
   ],
   "source": [
    "#Used for subplot for comparing the classses\n",
    "plt.subplots(1,1,figsize=(17,7))\n",
    "sns.countplot(data_copy['F17'],hue=data_copy['C'])\n",
    "plt.show()"
   ]
  },
  {
   "cell_type": "code",
   "execution_count": 34,
   "metadata": {},
   "outputs": [
    {
     "data": {
      "text/plain": [
       "1    81320\n",
       "2    13536\n",
       "3     2426\n",
       "6     2139\n",
       "4     1759\n",
       "Name: F17, dtype: int64"
      ]
     },
     "execution_count": 34,
     "metadata": {},
     "output_type": "execute_result"
    }
   ],
   "source": [
    "data_copy['F17'].value_counts()"
   ]
  },
  {
   "cell_type": "code",
   "execution_count": 35,
   "metadata": {},
   "outputs": [
    {
     "data": {
      "text/plain": [
       "1    81432\n",
       "2    13484\n",
       "3     2436\n",
       "6     2029\n",
       "4     1799\n",
       "Name: F18, dtype: int64"
      ]
     },
     "execution_count": 35,
     "metadata": {},
     "output_type": "execute_result"
    }
   ],
   "source": [
    "data_copy['F18'].value_counts()"
   ]
  },
  {
   "cell_type": "code",
   "execution_count": 36,
   "metadata": {},
   "outputs": [
    {
     "name": "stderr",
     "output_type": "stream",
     "text": [
      "/Users/nair/opt/anaconda3/lib/python3.8/site-packages/seaborn/_decorators.py:36: FutureWarning: Pass the following variable as a keyword arg: x. From version 0.12, the only valid positional argument will be `data`, and passing other arguments without an explicit keyword will result in an error or misinterpretation.\n",
      "  warnings.warn(\n"
     ]
    },
    {
     "data": {
      "image/png": "[encoded data removed]",
      "text/plain": [
       "<Figure size 1224x504 with 1 Axes>"
      ]
     },
     "metadata": {
      "needs_background": "light"
     },
     "output_type": "display_data"
    }
   ],
   "source": [
    "#Used for subplot for comparing the classses\n",
    "plt.subplots(1,1,figsize=(17,7))\n",
    "sns.countplot(data_copy['F18'],hue=data_copy['C'])\n",
    "plt.show()"
   ]
  },
  {
   "cell_type": "code",
   "execution_count": 37,
   "metadata": {},
   "outputs": [
    {
     "name": "stderr",
     "output_type": "stream",
     "text": [
      "/Users/nair/opt/anaconda3/lib/python3.8/site-packages/seaborn/_decorators.py:36: FutureWarning: Pass the following variable as a keyword arg: x. From version 0.12, the only valid positional argument will be `data`, and passing other arguments without an explicit keyword will result in an error or misinterpretation.\n",
      "  warnings.warn(\n"
     ]
    },
    {
     "data": {
      "image/png": "[encoded data removed]",
      "text/plain": [
       "<Figure size 1224x504 with 1 Axes>"
      ]
     },
     "metadata": {
      "needs_background": "light"
     },
     "output_type": "display_data"
    }
   ],
   "source": [
    "#Day wise analysis is giving indept intution.So plotting all the Day graphs of F15 and F16\n",
    "plt.subplots(1,1,figsize=(17,7))\n",
    "sns.countplot(data_copy['F15_Day'],hue=data_copy['C'])\n",
    "plt.show()"
   ]
  },
  {
   "cell_type": "code",
   "execution_count": 38,
   "metadata": {},
   "outputs": [
    {
     "name": "stderr",
     "output_type": "stream",
     "text": [
      "/Users/nair/opt/anaconda3/lib/python3.8/site-packages/seaborn/_decorators.py:36: FutureWarning: Pass the following variable as a keyword arg: x. From version 0.12, the only valid positional argument will be `data`, and passing other arguments without an explicit keyword will result in an error or misinterpretation.\n",
      "  warnings.warn(\n"
     ]
    },
    {
     "data": {
      "image/png": "[encoded data removed]",
      "text/plain": [
       "<Figure size 1224x504 with 1 Axes>"
      ]
     },
     "metadata": {
      "needs_background": "light"
     },
     "output_type": "display_data"
    }
   ],
   "source": [
    "plt.subplots(1,1,figsize=(17,7))\n",
    "sns.countplot(data_copy['F16_Day'],hue=data_copy['C'])\n",
    "plt.show()"
   ]
  },
  {
   "cell_type": "code",
   "execution_count": 39,
   "metadata": {},
   "outputs": [
    {
     "name": "stderr",
     "output_type": "stream",
     "text": [
      "/Users/nair/opt/anaconda3/lib/python3.8/site-packages/seaborn/_decorators.py:36: FutureWarning: Pass the following variable as a keyword arg: x. From version 0.12, the only valid positional argument will be `data`, and passing other arguments without an explicit keyword will result in an error or misinterpretation.\n",
      "  warnings.warn(\n"
     ]
    },
    {
     "data": {
      "image/png": "[encoded data removed]",
      "text/plain": [
       "<Figure size 1224x504 with 1 Axes>"
      ]
     },
     "metadata": {
      "needs_background": "light"
     },
     "output_type": "display_data"
    }
   ],
   "source": [
    "plt.subplots(1,1,figsize=(17,7))\n",
    "sns.countplot(data_copy['F16_Month'],hue=data_copy['C'])\n",
    "plt.show()"
   ]
  },
  {
   "cell_type": "code",
   "execution_count": 40,
   "metadata": {},
   "outputs": [
    {
     "data": {
      "image/png": "[encoded data removed]",
      "text/plain": [
       "<Figure size 432x288 with 1 Axes>"
      ]
     },
     "metadata": {
      "needs_background": "light"
     },
     "output_type": "display_data"
    }
   ],
   "source": [
    "# Boxplot\n",
    "data_copy.boxplot(column='F5', by='C')\n",
    "plt.show()\n",
    "\n",
    "#No outiler detected/"
   ]
  },
  {
   "cell_type": "code",
   "execution_count": 41,
   "metadata": {},
   "outputs": [
    {
     "name": "stderr",
     "output_type": "stream",
     "text": [
      "/Users/nair/opt/anaconda3/lib/python3.8/site-packages/seaborn/_decorators.py:36: FutureWarning: Pass the following variable as a keyword arg: x. From version 0.12, the only valid positional argument will be `data`, and passing other arguments without an explicit keyword will result in an error or misinterpretation.\n",
      "  warnings.warn(\n"
     ]
    },
    {
     "data": {
      "image/png": "[encoded data removed]",
      "text/plain": [
       "<Figure size 1224x504 with 1 Axes>"
      ]
     },
     "metadata": {
      "needs_background": "light"
     },
     "output_type": "display_data"
    }
   ],
   "source": [
    "#Trying out with the year\n",
    "\n",
    "plt.subplots(1,1,figsize=(17,7))\n",
    "sns.countplot(data_copy['F15_Year'],hue=data_copy['C'])\n",
    "plt.show()"
   ]
  },
  {
   "cell_type": "code",
   "execution_count": 42,
   "metadata": {},
   "outputs": [
    {
     "name": "stderr",
     "output_type": "stream",
     "text": [
      "/Users/nair/opt/anaconda3/lib/python3.8/site-packages/seaborn/_decorators.py:36: FutureWarning: Pass the following variable as a keyword arg: x. From version 0.12, the only valid positional argument will be `data`, and passing other arguments without an explicit keyword will result in an error or misinterpretation.\n",
      "  warnings.warn(\n"
     ]
    },
    {
     "data": {
      "image/png": "[encoded data removed]",
      "text/plain": [
       "<Figure size 1224x504 with 1 Axes>"
      ]
     },
     "metadata": {
      "needs_background": "light"
     },
     "output_type": "display_data"
    }
   ],
   "source": [
    "plt.subplots(1,1,figsize=(17,7))\n",
    "sns.countplot(data_copy['F16_Year'],hue=data_copy['C'])\n",
    "plt.show()"
   ]
  },
  {
   "cell_type": "code",
   "execution_count": 43,
   "metadata": {},
   "outputs": [
    {
     "data": {
      "text/plain": [
       "Index(['Index', 'F1', 'F2', 'F3', 'F4', 'F5', 'F6', 'F7', 'F8', 'F9', 'F17',\n",
       "       'F18', 'F19', 'F20', 'F21', 'F22', 'C', 'F15_Month', 'F15_Day',\n",
       "       'F15_Year', 'F16_Month', 'F16_Day', 'F16_Year'],\n",
       "      dtype='object')"
      ]
     },
     "execution_count": 43,
     "metadata": {},
     "output_type": "execute_result"
    }
   ],
   "source": [
    "data_copy.columns"
   ]
  },
  {
   "cell_type": "code",
   "execution_count": 44,
   "metadata": {},
   "outputs": [],
   "source": [
    "data_copy.drop(columns=['F15_Month', 'F15_Day','F16_Month', 'F16_Day'],inplace=True)"
   ]
  },
  {
   "cell_type": "markdown",
   "metadata": {},
   "source": [
    "Now checking the skewness of the data\n"
   ]
  },
  {
   "cell_type": "code",
   "execution_count": 45,
   "metadata": {},
   "outputs": [
    {
     "name": "stderr",
     "output_type": "stream",
     "text": [
      "/Users/nair/opt/anaconda3/lib/python3.8/site-packages/seaborn/distributions.py:2551: FutureWarning: `distplot` is a deprecated function and will be removed in a future version. Please adapt your code to use either `displot` (a figure-level function with similar flexibility) or `histplot` (an axes-level function for histograms).\n",
      "  warnings.warn(msg, FutureWarning)\n"
     ]
    },
    {
     "data": {
      "image/png": "[encoded data removed]",
      "text/plain": [
       "<Figure size 720x432 with 1 Axes>"
      ]
     },
     "metadata": {
      "needs_background": "light"
     },
     "output_type": "display_data"
    }
   ],
   "source": [
    "from scipy.stats import skew\n",
    "plt.figure(figsize=(10,6))\n",
    "sns.distplot(data_copy.F5) \n",
    "plt.show()"
   ]
  },
  {
   "cell_type": "code",
   "execution_count": 46,
   "metadata": {},
   "outputs": [
    {
     "name": "stderr",
     "output_type": "stream",
     "text": [
      "/Users/nair/opt/anaconda3/lib/python3.8/site-packages/seaborn/distributions.py:2551: FutureWarning: `distplot` is a deprecated function and will be removed in a future version. Please adapt your code to use either `displot` (a figure-level function with similar flexibility) or `histplot` (an axes-level function for histograms).\n",
      "  warnings.warn(msg, FutureWarning)\n"
     ]
    },
    {
     "data": {
      "text/plain": [
       "<AxesSubplot:xlabel='F6', ylabel='Density'>"
      ]
     },
     "execution_count": 46,
     "metadata": {},
     "output_type": "execute_result"
    },
    {
     "data": {
      "image/png": "[encoded data removed]",
      "text/plain": [
       "<Figure size 720x432 with 1 Axes>"
      ]
     },
     "metadata": {
      "needs_background": "light"
     },
     "output_type": "display_data"
    }
   ],
   "source": [
    "plt.figure(figsize=(10,6))\n",
    "sns.distplot(data_copy.F6)\n",
    "\n",
    "#Similar way we can plot for all the catergorical values like F7,F9 etc.."
   ]
  },
  {
   "cell_type": "code",
   "execution_count": 47,
   "metadata": {},
   "outputs": [
    {
     "data": {
      "text/plain": [
       "0    76353\n",
       "1    24827\n",
       "Name: C, dtype: int64"
      ]
     },
     "execution_count": 47,
     "metadata": {},
     "output_type": "execute_result"
    }
   ],
   "source": [
    "data_copy.C.value_counts()"
   ]
  },
  {
   "cell_type": "code",
   "execution_count": 48,
   "metadata": {},
   "outputs": [
    {
     "data": {
      "image/png": "[encoded data removed]",
      "text/plain": [
       "<Figure size 2520x1800 with 2 Axes>"
      ]
     },
     "metadata": {
      "needs_background": "light"
     },
     "output_type": "display_data"
    }
   ],
   "source": [
    "#get correlations of each features in dataset\n",
    "corrmat = data_copy.corr()\n",
    "top_corr_features = corrmat.index\n",
    "plt.figure(figsize=(35,25))\n",
    "#plot heat map\n",
    "g=sns.heatmap(data_copy[top_corr_features].corr(),annot=True,center=True,robust=True)"
   ]
  },
  {
   "cell_type": "code",
   "execution_count": 49,
   "metadata": {},
   "outputs": [],
   "source": [
    "# creating a training set\n",
    "\n",
    "df_train=data_copy[['F1', 'F2', 'F3', 'F4', 'F5', 'F6', 'F7', 'F8', 'F9', 'F17', 'F18',\n",
    "       'F19', 'F20', 'F21', 'F22', 'C', 'F15_Year', 'F16_Year']]"
   ]
  },
  {
   "cell_type": "code",
   "execution_count": 50,
   "metadata": {},
   "outputs": [
    {
     "data": {
      "text/html": [
       "<div>\n",
       "<style scoped>\n",
       "    .dataframe tbody tr th:only-of-type {\n",
       "        vertical-align: middle;\n",
       "    }\n",
       "\n",
       "    .dataframe tbody tr th {\n",
       "        vertical-align: top;\n",
       "    }\n",
       "\n",
       "    .dataframe thead th {\n",
       "        text-align: right;\n",
       "    }\n",
       "</style>\n",
       "<table border=\"1\" class=\"dataframe\">\n",
       "  <thead>\n",
       "    <tr style=\"text-align: right;\">\n",
       "      <th></th>\n",
       "      <th>F1</th>\n",
       "      <th>F2</th>\n",
       "      <th>F3</th>\n",
       "      <th>F4</th>\n",
       "      <th>F5</th>\n",
       "      <th>F6</th>\n",
       "      <th>F7</th>\n",
       "      <th>F8</th>\n",
       "      <th>F9</th>\n",
       "      <th>F17</th>\n",
       "      <th>F18</th>\n",
       "      <th>F19</th>\n",
       "      <th>F20</th>\n",
       "      <th>F21</th>\n",
       "      <th>F22</th>\n",
       "      <th>C</th>\n",
       "      <th>F15_Year</th>\n",
       "      <th>F16_Year</th>\n",
       "    </tr>\n",
       "  </thead>\n",
       "  <tbody>\n",
       "    <tr>\n",
       "      <th>0</th>\n",
       "      <td>0.224506</td>\n",
       "      <td>0.500340</td>\n",
       "      <td>0.489860</td>\n",
       "      <td>0.902413</td>\n",
       "      <td>7934</td>\n",
       "      <td>-6970</td>\n",
       "      <td>-5714</td>\n",
       "      <td>9982</td>\n",
       "      <td>-5697</td>\n",
       "      <td>2</td>\n",
       "      <td>1</td>\n",
       "      <td>706</td>\n",
       "      <td>305</td>\n",
       "      <td>1</td>\n",
       "      <td>2</td>\n",
       "      <td>0</td>\n",
       "      <td>1986</td>\n",
       "      <td>1992</td>\n",
       "    </tr>\n",
       "    <tr>\n",
       "      <th>1</th>\n",
       "      <td>0.321128</td>\n",
       "      <td>0.281119</td>\n",
       "      <td>0.907283</td>\n",
       "      <td>0.772159</td>\n",
       "      <td>-8238</td>\n",
       "      <td>1219</td>\n",
       "      <td>1663</td>\n",
       "      <td>1287</td>\n",
       "      <td>-3658</td>\n",
       "      <td>1</td>\n",
       "      <td>1</td>\n",
       "      <td>423</td>\n",
       "      <td>206</td>\n",
       "      <td>18</td>\n",
       "      <td>7</td>\n",
       "      <td>1</td>\n",
       "      <td>1979</td>\n",
       "      <td>1983</td>\n",
       "    </tr>\n",
       "    <tr>\n",
       "      <th>2</th>\n",
       "      <td>0.893441</td>\n",
       "      <td>0.622005</td>\n",
       "      <td>0.998776</td>\n",
       "      <td>0.098386</td>\n",
       "      <td>8540</td>\n",
       "      <td>5266</td>\n",
       "      <td>-9377</td>\n",
       "      <td>-3504</td>\n",
       "      <td>-4511</td>\n",
       "      <td>2</td>\n",
       "      <td>1</td>\n",
       "      <td>703</td>\n",
       "      <td>315</td>\n",
       "      <td>1</td>\n",
       "      <td>4</td>\n",
       "      <td>0</td>\n",
       "      <td>1989</td>\n",
       "      <td>1986</td>\n",
       "    </tr>\n",
       "    <tr>\n",
       "      <th>3</th>\n",
       "      <td>0.320641</td>\n",
       "      <td>0.957234</td>\n",
       "      <td>0.346000</td>\n",
       "      <td>0.646479</td>\n",
       "      <td>-7772</td>\n",
       "      <td>-383</td>\n",
       "      <td>9681</td>\n",
       "      <td>-8661</td>\n",
       "      <td>3474</td>\n",
       "      <td>1</td>\n",
       "      <td>1</td>\n",
       "      <td>122</td>\n",
       "      <td>304</td>\n",
       "      <td>15</td>\n",
       "      <td>1</td>\n",
       "      <td>0</td>\n",
       "      <td>1982</td>\n",
       "      <td>1992</td>\n",
       "    </tr>\n",
       "    <tr>\n",
       "      <th>4</th>\n",
       "      <td>0.475961</td>\n",
       "      <td>0.623008</td>\n",
       "      <td>0.544988</td>\n",
       "      <td>0.159709</td>\n",
       "      <td>1571</td>\n",
       "      <td>-8039</td>\n",
       "      <td>-7961</td>\n",
       "      <td>-2385</td>\n",
       "      <td>4407</td>\n",
       "      <td>1</td>\n",
       "      <td>1</td>\n",
       "      <td>486</td>\n",
       "      <td>240</td>\n",
       "      <td>1</td>\n",
       "      <td>1</td>\n",
       "      <td>0</td>\n",
       "      <td>1987</td>\n",
       "      <td>1985</td>\n",
       "    </tr>\n",
       "  </tbody>\n",
       "</table>\n",
       "</div>"
      ],
      "text/plain": [
       "         F1        F2        F3        F4    F5    F6    F7    F8    F9  F17  \\\n",
       "0  0.224506  0.500340  0.489860  0.902413  7934 -6970 -5714  9982 -5697    2   \n",
       "1  0.321128  0.281119  0.907283  0.772159 -8238  1219  1663  1287 -3658    1   \n",
       "2  0.893441  0.622005  0.998776  0.098386  8540  5266 -9377 -3504 -4511    2   \n",
       "3  0.320641  0.957234  0.346000  0.646479 -7772  -383  9681 -8661  3474    1   \n",
       "4  0.475961  0.623008  0.544988  0.159709  1571 -8039 -7961 -2385  4407    1   \n",
       "\n",
       "   F18  F19  F20  F21  F22  C  F15_Year  F16_Year  \n",
       "0    1  706  305    1    2  0      1986      1992  \n",
       "1    1  423  206   18    7  1      1979      1983  \n",
       "2    1  703  315    1    4  0      1989      1986  \n",
       "3    1  122  304   15    1  0      1982      1992  \n",
       "4    1  486  240    1    1  0      1987      1985  "
      ]
     },
     "execution_count": 50,
     "metadata": {},
     "output_type": "execute_result"
    }
   ],
   "source": [
    "df_train.head()"
   ]
  },
  {
   "cell_type": "code",
   "execution_count": 51,
   "metadata": {},
   "outputs": [],
   "source": [
    "# diffentaiating the types of varibel\n",
    "continous_features=['F1', 'F2', 'F3', 'F4','F5', 'F6', 'F7', 'F8', 'F9','F19', 'F20']\n",
    "categorical_features=['F17', 'F18', 'F21', 'F22']"
   ]
  },
  {
   "cell_type": "code",
   "execution_count": 52,
   "metadata": {},
   "outputs": [],
   "source": [
    "date_columns=['F15_Year', 'F16_Year'] #Using for appendind\n"
   ]
  },
  {
   "cell_type": "code",
   "execution_count": null,
   "metadata": {},
   "outputs": [],
   "source": []
  },
  {
   "cell_type": "code",
   "execution_count": 53,
   "metadata": {},
   "outputs": [
    {
     "name": "stderr",
     "output_type": "stream",
     "text": [
      "<ipython-input-53-489023e6284f>:2: SettingWithCopyWarning: \n",
      "A value is trying to be set on a copy of a slice from a DataFrame.\n",
      "Try using .loc[row_indexer,col_indexer] = value instead\n",
      "\n",
      "See the caveats in the documentation: https://pandas.pydata.org/pandas-docs/stable/user_guide/indexing.html#returning-a-view-versus-a-copy\n",
      "  df_train[col] = df_train[col].astype(object)\n"
     ]
    }
   ],
   "source": [
    "for col in categorical_features:\n",
    "    df_train[col] = df_train[col].astype(object)"
   ]
  },
  {
   "cell_type": "code",
   "execution_count": 54,
   "metadata": {},
   "outputs": [
    {
     "name": "stderr",
     "output_type": "stream",
     "text": [
      "<ipython-input-54-3ceb2ce0bf34>:2: SettingWithCopyWarning: \n",
      "A value is trying to be set on a copy of a slice from a DataFrame.\n",
      "Try using .loc[row_indexer,col_indexer] = value instead\n",
      "\n",
      "See the caveats in the documentation: https://pandas.pydata.org/pandas-docs/stable/user_guide/indexing.html#returning-a-view-versus-a-copy\n",
      "  df_train[col] = df_train[col].astype(float)\n"
     ]
    }
   ],
   "source": [
    "for col in continous_features:\n",
    "    df_train[col] = df_train[col].astype(float)"
   ]
  },
  {
   "cell_type": "code",
   "execution_count": 55,
   "metadata": {},
   "outputs": [],
   "source": [
    "categorical_df = df_train[categorical_features]\n",
    "cont_df = df_train[continous_features]\n",
    "date_df=df_train[date_columns]"
   ]
  },
  {
   "cell_type": "code",
   "execution_count": 56,
   "metadata": {},
   "outputs": [],
   "source": [
    "dummies_df = pd.get_dummies(data=df_train[categorical_features], drop_first=True)"
   ]
  },
  {
   "cell_type": "code",
   "execution_count": 57,
   "metadata": {},
   "outputs": [
    {
     "data": {
      "text/html": [
       "<div>\n",
       "<style scoped>\n",
       "    .dataframe tbody tr th:only-of-type {\n",
       "        vertical-align: middle;\n",
       "    }\n",
       "\n",
       "    .dataframe tbody tr th {\n",
       "        vertical-align: top;\n",
       "    }\n",
       "\n",
       "    .dataframe thead th {\n",
       "        text-align: right;\n",
       "    }\n",
       "</style>\n",
       "<table border=\"1\" class=\"dataframe\">\n",
       "  <thead>\n",
       "    <tr style=\"text-align: right;\">\n",
       "      <th></th>\n",
       "      <th>F17_2</th>\n",
       "      <th>F17_3</th>\n",
       "      <th>F17_4</th>\n",
       "      <th>F17_6</th>\n",
       "      <th>F18_2</th>\n",
       "      <th>F18_3</th>\n",
       "      <th>F18_4</th>\n",
       "      <th>F18_6</th>\n",
       "      <th>F21_2</th>\n",
       "      <th>F21_3</th>\n",
       "      <th>...</th>\n",
       "      <th>F22_12</th>\n",
       "      <th>F22_13</th>\n",
       "      <th>F22_14</th>\n",
       "      <th>F22_15</th>\n",
       "      <th>F22_16</th>\n",
       "      <th>F22_17</th>\n",
       "      <th>F22_18</th>\n",
       "      <th>F22_19</th>\n",
       "      <th>F22_20</th>\n",
       "      <th>F22_21</th>\n",
       "    </tr>\n",
       "  </thead>\n",
       "  <tbody>\n",
       "    <tr>\n",
       "      <th>0</th>\n",
       "      <td>1</td>\n",
       "      <td>0</td>\n",
       "      <td>0</td>\n",
       "      <td>0</td>\n",
       "      <td>0</td>\n",
       "      <td>0</td>\n",
       "      <td>0</td>\n",
       "      <td>0</td>\n",
       "      <td>0</td>\n",
       "      <td>0</td>\n",
       "      <td>...</td>\n",
       "      <td>0</td>\n",
       "      <td>0</td>\n",
       "      <td>0</td>\n",
       "      <td>0</td>\n",
       "      <td>0</td>\n",
       "      <td>0</td>\n",
       "      <td>0</td>\n",
       "      <td>0</td>\n",
       "      <td>0</td>\n",
       "      <td>0</td>\n",
       "    </tr>\n",
       "    <tr>\n",
       "      <th>1</th>\n",
       "      <td>0</td>\n",
       "      <td>0</td>\n",
       "      <td>0</td>\n",
       "      <td>0</td>\n",
       "      <td>0</td>\n",
       "      <td>0</td>\n",
       "      <td>0</td>\n",
       "      <td>0</td>\n",
       "      <td>0</td>\n",
       "      <td>0</td>\n",
       "      <td>...</td>\n",
       "      <td>0</td>\n",
       "      <td>0</td>\n",
       "      <td>0</td>\n",
       "      <td>0</td>\n",
       "      <td>0</td>\n",
       "      <td>0</td>\n",
       "      <td>0</td>\n",
       "      <td>0</td>\n",
       "      <td>0</td>\n",
       "      <td>0</td>\n",
       "    </tr>\n",
       "  </tbody>\n",
       "</table>\n",
       "<p>2 rows × 48 columns</p>\n",
       "</div>"
      ],
      "text/plain": [
       "   F17_2  F17_3  F17_4  F17_6  F18_2  F18_3  F18_4  F18_6  F21_2  F21_3  ...  \\\n",
       "0      1      0      0      0      0      0      0      0      0      0  ...   \n",
       "1      0      0      0      0      0      0      0      0      0      0  ...   \n",
       "\n",
       "   F22_12  F22_13  F22_14  F22_15  F22_16  F22_17  F22_18  F22_19  F22_20  \\\n",
       "0       0       0       0       0       0       0       0       0       0   \n",
       "1       0       0       0       0       0       0       0       0       0   \n",
       "\n",
       "   F22_21  \n",
       "0       0  \n",
       "1       0  \n",
       "\n",
       "[2 rows x 48 columns]"
      ]
     },
     "execution_count": 57,
     "metadata": {},
     "output_type": "execute_result"
    }
   ],
   "source": [
    "dummies_df.head(2)"
   ]
  },
  {
   "cell_type": "code",
   "execution_count": 58,
   "metadata": {},
   "outputs": [
    {
     "name": "stdout",
     "output_type": "stream",
     "text": [
      "F1 -0.005717206290624233\n",
      "F2 -0.005972011200821198\n",
      "F3 0.0002519381536661913\n",
      "F4 -0.0005455347113646256\n",
      "F5 0.008294478298824065\n",
      "F6 -0.0010676313796049702\n",
      "F7 -0.0010708473294930658\n",
      "F8 -0.008812172956906752\n",
      "F9 -0.0029404707804210864\n",
      "F19 0.22363260661064183\n",
      "F20 0.2160966367956378\n"
     ]
    }
   ],
   "source": [
    "for col in continous_features:\n",
    "    print(f\"{col} {skew(cont_df[col])}\")"
   ]
  },
  {
   "cell_type": "code",
   "execution_count": 59,
   "metadata": {},
   "outputs": [],
   "source": [
    "df_concat = pd.concat([cont_df, dummies_df,date_df], axis=1)"
   ]
  },
  {
   "cell_type": "code",
   "execution_count": 60,
   "metadata": {},
   "outputs": [
    {
     "data": {
      "text/html": [
       "<div>\n",
       "<style scoped>\n",
       "    .dataframe tbody tr th:only-of-type {\n",
       "        vertical-align: middle;\n",
       "    }\n",
       "\n",
       "    .dataframe tbody tr th {\n",
       "        vertical-align: top;\n",
       "    }\n",
       "\n",
       "    .dataframe thead th {\n",
       "        text-align: right;\n",
       "    }\n",
       "</style>\n",
       "<table border=\"1\" class=\"dataframe\">\n",
       "  <thead>\n",
       "    <tr style=\"text-align: right;\">\n",
       "      <th></th>\n",
       "      <th>F1</th>\n",
       "      <th>F2</th>\n",
       "      <th>F3</th>\n",
       "      <th>F4</th>\n",
       "      <th>F5</th>\n",
       "      <th>F6</th>\n",
       "      <th>F7</th>\n",
       "      <th>F8</th>\n",
       "      <th>F9</th>\n",
       "      <th>F19</th>\n",
       "      <th>...</th>\n",
       "      <th>F22_14</th>\n",
       "      <th>F22_15</th>\n",
       "      <th>F22_16</th>\n",
       "      <th>F22_17</th>\n",
       "      <th>F22_18</th>\n",
       "      <th>F22_19</th>\n",
       "      <th>F22_20</th>\n",
       "      <th>F22_21</th>\n",
       "      <th>F15_Year</th>\n",
       "      <th>F16_Year</th>\n",
       "    </tr>\n",
       "  </thead>\n",
       "  <tbody>\n",
       "    <tr>\n",
       "      <th>0</th>\n",
       "      <td>0.224506</td>\n",
       "      <td>0.500340</td>\n",
       "      <td>0.489860</td>\n",
       "      <td>0.902413</td>\n",
       "      <td>7934.0</td>\n",
       "      <td>-6970.0</td>\n",
       "      <td>-5714.0</td>\n",
       "      <td>9982.0</td>\n",
       "      <td>-5697.0</td>\n",
       "      <td>706.0</td>\n",
       "      <td>...</td>\n",
       "      <td>0</td>\n",
       "      <td>0</td>\n",
       "      <td>0</td>\n",
       "      <td>0</td>\n",
       "      <td>0</td>\n",
       "      <td>0</td>\n",
       "      <td>0</td>\n",
       "      <td>0</td>\n",
       "      <td>1986</td>\n",
       "      <td>1992</td>\n",
       "    </tr>\n",
       "    <tr>\n",
       "      <th>1</th>\n",
       "      <td>0.321128</td>\n",
       "      <td>0.281119</td>\n",
       "      <td>0.907283</td>\n",
       "      <td>0.772159</td>\n",
       "      <td>-8238.0</td>\n",
       "      <td>1219.0</td>\n",
       "      <td>1663.0</td>\n",
       "      <td>1287.0</td>\n",
       "      <td>-3658.0</td>\n",
       "      <td>423.0</td>\n",
       "      <td>...</td>\n",
       "      <td>0</td>\n",
       "      <td>0</td>\n",
       "      <td>0</td>\n",
       "      <td>0</td>\n",
       "      <td>0</td>\n",
       "      <td>0</td>\n",
       "      <td>0</td>\n",
       "      <td>0</td>\n",
       "      <td>1979</td>\n",
       "      <td>1983</td>\n",
       "    </tr>\n",
       "  </tbody>\n",
       "</table>\n",
       "<p>2 rows × 61 columns</p>\n",
       "</div>"
      ],
      "text/plain": [
       "         F1        F2        F3        F4      F5      F6      F7      F8  \\\n",
       "0  0.224506  0.500340  0.489860  0.902413  7934.0 -6970.0 -5714.0  9982.0   \n",
       "1  0.321128  0.281119  0.907283  0.772159 -8238.0  1219.0  1663.0  1287.0   \n",
       "\n",
       "       F9    F19  ...  F22_14  F22_15  F22_16  F22_17  F22_18  F22_19  F22_20  \\\n",
       "0 -5697.0  706.0  ...       0       0       0       0       0       0       0   \n",
       "1 -3658.0  423.0  ...       0       0       0       0       0       0       0   \n",
       "\n",
       "   F22_21  F15_Year  F16_Year  \n",
       "0       0      1986      1992  \n",
       "1       0      1979      1983  \n",
       "\n",
       "[2 rows x 61 columns]"
      ]
     },
     "execution_count": 60,
     "metadata": {},
     "output_type": "execute_result"
    }
   ],
   "source": [
    "df_concat.head(2)"
   ]
  },
  {
   "cell_type": "code",
   "execution_count": 61,
   "metadata": {},
   "outputs": [],
   "source": [
    "X = df_concat\n",
    "y = data_copy['C']"
   ]
  },
  {
   "cell_type": "code",
   "execution_count": 62,
   "metadata": {},
   "outputs": [],
   "source": [
    "X_train, X_val, y_train, y_val = train_test_split(X, y, test_size = 0.2, stratify = y, random_state = 10)"
   ]
  },
  {
   "cell_type": "code",
   "execution_count": 63,
   "metadata": {},
   "outputs": [
    {
     "data": {
      "text/plain": [
       "Counter({0: 61082, 1: 19862})"
      ]
     },
     "execution_count": 63,
     "metadata": {},
     "output_type": "execute_result"
    }
   ],
   "source": [
    "Counter(y_train)\n",
    "\n",
    "# there is a class imabalance probelm So using the oversmaping techiniques"
   ]
  },
  {
   "cell_type": "code",
   "execution_count": 64,
   "metadata": {},
   "outputs": [],
   "source": [
    "from imblearn.over_sampling import SMOTE\n",
    "sm = SMOTE(random_state = 42)\n",
    "X_train_oversampled, y_train_oversampled = sm.fit_resample(X_train, y_train)\n",
    "X_train = X_train_oversampled\n",
    "y_train=y_train_oversampled"
   ]
  },
  {
   "cell_type": "code",
   "execution_count": 65,
   "metadata": {},
   "outputs": [
    {
     "data": {
      "text/plain": [
       "Counter({0: 61082, 1: 61082})"
      ]
     },
     "execution_count": 65,
     "metadata": {},
     "output_type": "execute_result"
    }
   ],
   "source": [
    "Counter(y_train)"
   ]
  },
  {
   "cell_type": "code",
   "execution_count": 66,
   "metadata": {},
   "outputs": [
    {
     "data": {
      "text/plain": [
       "((122164, 61), (122164,))"
      ]
     },
     "execution_count": 66,
     "metadata": {},
     "output_type": "execute_result"
    }
   ],
   "source": [
    "X_train.shape,y_train.shape #this is giving equal result"
   ]
  },
  {
   "cell_type": "code",
   "execution_count": 67,
   "metadata": {},
   "outputs": [],
   "source": [
    "params = dict()\n",
    "params['penalty'] = ['l1', 'l2', 'elasticnet']\n",
    "params['C'] = [1, 0.9, 1.1]\n",
    "params['class_weight'] = ['balanced', None]\n",
    "params['solver'] = ['newton-cg', 'lbfgs', 'liblinear', 'sag', 'saga']"
   ]
  },
  {
   "cell_type": "code",
   "execution_count": 68,
   "metadata": {},
   "outputs": [],
   "source": [
    "lg = LogisticRegression(n_jobs=-1)"
   ]
  },
  {
   "cell_type": "code",
   "execution_count": 69,
   "metadata": {},
   "outputs": [],
   "source": [
    "cv = StratifiedKFold(n_splits=5, random_state=10, shuffle=True)"
   ]
  },
  {
   "cell_type": "code",
   "execution_count": 70,
   "metadata": {},
   "outputs": [
    {
     "name": "stderr",
     "output_type": "stream",
     "text": [
      "/Users/nair/opt/anaconda3/lib/python3.8/site-packages/sklearn/model_selection/_search.py:922: UserWarning: One or more of the test scores are non-finite: [       nan        nan        nan        nan        nan        nan\n",
      "        nan        nan 0.76549556        nan]\n",
      "  warnings.warn(\n"
     ]
    }
   ],
   "source": [
    "randomSearch = RandomizedSearchCV(estimator=lg, param_distributions=params, cv=cv, n_jobs=-1, scoring='accuracy')\n",
    "result = randomSearch.fit(X_train, y_train)"
   ]
  },
  {
   "cell_type": "code",
   "execution_count": 71,
   "metadata": {},
   "outputs": [
    {
     "data": {
      "text/plain": [
       "LogisticRegression(C=0.9, n_jobs=-1, solver='newton-cg')"
      ]
     },
     "execution_count": 71,
     "metadata": {},
     "output_type": "execute_result"
    }
   ],
   "source": [
    "result.best_estimator_"
   ]
  },
  {
   "cell_type": "code",
   "execution_count": 72,
   "metadata": {},
   "outputs": [
    {
     "data": {
      "text/plain": [
       "0.7654955601288701"
      ]
     },
     "execution_count": 72,
     "metadata": {},
     "output_type": "execute_result"
    }
   ],
   "source": [
    "result.best_score_"
   ]
  },
  {
   "cell_type": "code",
   "execution_count": 73,
   "metadata": {},
   "outputs": [],
   "source": [
    "lg_best = result.best_estimator_"
   ]
  },
  {
   "cell_type": "code",
   "execution_count": 74,
   "metadata": {},
   "outputs": [
    {
     "data": {
      "text/plain": [
       "LogisticRegression(C=0.9, n_jobs=-1, solver='newton-cg')"
      ]
     },
     "execution_count": 74,
     "metadata": {},
     "output_type": "execute_result"
    }
   ],
   "source": [
    "lg_best.fit(X_train, y_train)"
   ]
  },
  {
   "cell_type": "code",
   "execution_count": 75,
   "metadata": {},
   "outputs": [],
   "source": [
    "y_predicted_train_lg = lg_best.predict(X_train)"
   ]
  },
  {
   "cell_type": "code",
   "execution_count": 76,
   "metadata": {},
   "outputs": [
    {
     "data": {
      "text/plain": [
       "0.7662732065092827"
      ]
     },
     "execution_count": 76,
     "metadata": {},
     "output_type": "execute_result"
    }
   ],
   "source": [
    "accuracy_score(y_train, y_predicted_train_lg)"
   ]
  },
  {
   "cell_type": "code",
   "execution_count": 77,
   "metadata": {},
   "outputs": [],
   "source": [
    "y_predicted_test_lg = lg_best.predict(X_val)"
   ]
  },
  {
   "cell_type": "code",
   "execution_count": 78,
   "metadata": {},
   "outputs": [
    {
     "data": {
      "text/plain": [
       "0.65106740462542"
      ]
     },
     "execution_count": 78,
     "metadata": {},
     "output_type": "execute_result"
    }
   ],
   "source": [
    "accuracy_score(y_val, y_predicted_test_lg)"
   ]
  },
  {
   "cell_type": "code",
   "execution_count": 79,
   "metadata": {},
   "outputs": [
    {
     "name": "stdout",
     "output_type": "stream",
     "text": [
      "0.36030391895494535\n"
     ]
    }
   ],
   "source": [
    "precision = precision_score(y_val, y_predicted_test_lg)\n",
    "print(precision)"
   ]
  },
  {
   "cell_type": "code",
   "execution_count": 80,
   "metadata": {},
   "outputs": [
    {
     "name": "stdout",
     "output_type": "stream",
     "text": [
      "0.5444108761329305\n"
     ]
    }
   ],
   "source": [
    "recall = recall_score(y_val, y_predicted_test_lg)\n",
    "print(recall)"
   ]
  },
  {
   "cell_type": "code",
   "execution_count": 81,
   "metadata": {},
   "outputs": [
    {
     "name": "stdout",
     "output_type": "stream",
     "text": [
      "0.43362476939119277\n"
     ]
    }
   ],
   "source": [
    "f1 = f1_score(y_val, y_predicted_test_lg)\n",
    "print(f1)"
   ]
  },
  {
   "cell_type": "code",
   "execution_count": 82,
   "metadata": {},
   "outputs": [
    {
     "data": {
      "text/plain": [
       "LogisticRegression(n_jobs=-1)"
      ]
     },
     "execution_count": 82,
     "metadata": {},
     "output_type": "execute_result"
    }
   ],
   "source": [
    "# logistic regreaaion\n",
    "lg.fit(X_train, y_train)"
   ]
  },
  {
   "cell_type": "code",
   "execution_count": 83,
   "metadata": {},
   "outputs": [],
   "source": [
    "y_predicted_train = lg.predict(X_train)"
   ]
  },
  {
   "cell_type": "code",
   "execution_count": 84,
   "metadata": {},
   "outputs": [
    {
     "data": {
      "text/plain": [
       "0.68757571788743"
      ]
     },
     "execution_count": 84,
     "metadata": {},
     "output_type": "execute_result"
    }
   ],
   "source": [
    "accuracy_score(y_train, y_predicted_train)"
   ]
  },
  {
   "cell_type": "code",
   "execution_count": 85,
   "metadata": {},
   "outputs": [],
   "source": [
    "y_predicted_test = lg.predict(X_val)"
   ]
  },
  {
   "cell_type": "code",
   "execution_count": 86,
   "metadata": {},
   "outputs": [
    {
     "data": {
      "text/plain": [
       "0.6155860842063648"
      ]
     },
     "execution_count": 86,
     "metadata": {},
     "output_type": "execute_result"
    }
   ],
   "source": [
    "accuracy_score(y_val, y_predicted_test)"
   ]
  },
  {
   "cell_type": "code",
   "execution_count": 87,
   "metadata": {},
   "outputs": [
    {
     "name": "stdout",
     "output_type": "stream",
     "text": [
      "              precision    recall  f1-score   support\n",
      "\n",
      "           0       0.82      0.69      0.75     15271\n",
      "           1       0.36      0.54      0.43      4965\n",
      "\n",
      "    accuracy                           0.65     20236\n",
      "   macro avg       0.59      0.62      0.59     20236\n",
      "weighted avg       0.71      0.65      0.67     20236\n",
      "\n"
     ]
    }
   ],
   "source": [
    "print(classification_report(y_val, y_predicted_test_lg))"
   ]
  },
  {
   "cell_type": "code",
   "execution_count": 88,
   "metadata": {},
   "outputs": [
    {
     "name": "stdout",
     "output_type": "stream",
     "text": [
      "Accuracy on training set: 0.68757571788743\n",
      "Accuracy on test set: 0.6155860842063648\n"
     ]
    }
   ],
   "source": [
    "print('Accuracy on training set:',lg.score(X_train,y_train))\n",
    "print('Accuracy on test set:',lg.score(X_val,y_val))"
   ]
  },
  {
   "cell_type": "code",
   "execution_count": 89,
   "metadata": {},
   "outputs": [
    {
     "data": {
      "text/plain": [
       "GaussianNB()"
      ]
     },
     "execution_count": 89,
     "metadata": {},
     "output_type": "execute_result"
    }
   ],
   "source": [
    "from sklearn.naive_bayes import GaussianNB\n",
    "nb_clf= GaussianNB()\n",
    "nb_clf.fit(X_train, y_train)"
   ]
  },
  {
   "cell_type": "code",
   "execution_count": 90,
   "metadata": {},
   "outputs": [
    {
     "name": "stdout",
     "output_type": "stream",
     "text": [
      "Accuracy on training set: 0.6782931141743885\n",
      "Accuracy on test set: 0.5125024708440403\n"
     ]
    }
   ],
   "source": [
    "print('Accuracy on training set:',nb_clf.score(X_train,y_train))\n",
    "print('Accuracy on test set:',nb_clf.score(X_val,y_val))"
   ]
  },
  {
   "cell_type": "code",
   "execution_count": 91,
   "metadata": {},
   "outputs": [
    {
     "data": {
      "text/plain": [
       "DecisionTreeClassifier()"
      ]
     },
     "execution_count": 91,
     "metadata": {},
     "output_type": "execute_result"
    }
   ],
   "source": [
    "from sklearn.tree import DecisionTreeClassifier\n",
    "dec_clf = DecisionTreeClassifier()\n",
    "dec_clf.fit(X_train, y_train)"
   ]
  },
  {
   "cell_type": "code",
   "execution_count": 92,
   "metadata": {},
   "outputs": [
    {
     "name": "stdout",
     "output_type": "stream",
     "text": [
      "Accuracy on training set 1.0\n",
      "Accuracy on test set: 0.6551690057323581\n"
     ]
    }
   ],
   "source": [
    "print('Accuracy on training set',dec_clf.score(X_train, y_train))\n",
    "print('Accuracy on test set:',dec_clf.score(X_val, y_val))"
   ]
  },
  {
   "cell_type": "code",
   "execution_count": 93,
   "metadata": {},
   "outputs": [
    {
     "name": "stdout",
     "output_type": "stream",
     "text": [
      "[22:45:44] WARNING: /opt/concourse/worker/volumes/live/7a2b9f41-3287-451b-6691-43e9a6c0910f/volume/xgboost-split_1619728204606/work/src/learner.cc:1061: Starting in XGBoost 1.3.0, the default evaluation metric used with the objective 'binary:logistic' was changed from 'error' to 'logloss'. Explicitly set eval_metric if you'd like to restore the old behavior.\n"
     ]
    },
    {
     "name": "stderr",
     "output_type": "stream",
     "text": [
      "/Users/nair/opt/anaconda3/lib/python3.8/site-packages/xgboost/sklearn.py:888: UserWarning: The use of label encoder in XGBClassifier is deprecated and will be removed in a future release. To remove this warning, do the following: 1) Pass option use_label_encoder=False when constructing XGBClassifier object; and 2) Encode your labels (y) as integers starting with 0, i.e. 0, 1, 2, ..., [num_class - 1].\n",
      "  warnings.warn(label_encoder_deprecation_msg, UserWarning)\n"
     ]
    },
    {
     "data": {
      "text/plain": [
       "XGBClassifier(base_score=0.5, booster='gbtree', colsample_bylevel=1,\n",
       "              colsample_bynode=1, colsample_bytree=1, gamma=0, gpu_id=-1,\n",
       "              importance_type='gain', interaction_constraints='',\n",
       "              learning_rate=0.300000012, max_delta_step=0, max_depth=6,\n",
       "              min_child_weight=1, missing=nan, monotone_constraints='()',\n",
       "              n_estimators=100, n_jobs=8, num_parallel_tree=1, random_state=0,\n",
       "              reg_alpha=0, reg_lambda=1, scale_pos_weight=1, subsample=1,\n",
       "              tree_method='exact', validate_parameters=1, verbosity=None)"
      ]
     },
     "execution_count": 93,
     "metadata": {},
     "output_type": "execute_result"
    }
   ],
   "source": [
    "from xgboost import XGBClassifier\n",
    "xgb_clf= XGBClassifier()\n",
    "xgb_clf.fit(X_train, y_train)"
   ]
  },
  {
   "cell_type": "code",
   "execution_count": 94,
   "metadata": {},
   "outputs": [
    {
     "name": "stdout",
     "output_type": "stream",
     "text": [
      "Accuracy score on train_data:  0.8200288137258112\n",
      "Accuracy score on test_data:  0.6813105356789879\n"
     ]
    }
   ],
   "source": [
    "from sklearn.metrics import accuracy_score\n",
    "print('Accuracy score on train_data: ', accuracy_score(y_true = y_train, y_pred = xgb_clf.predict(X_train).round()))\n",
    "print('Accuracy score on test_data: ', accuracy_score(y_true = y_val, y_pred = xgb_clf.predict(X_val).round()))"
   ]
  },
  {
   "cell_type": "code",
   "execution_count": 95,
   "metadata": {},
   "outputs": [],
   "source": [
    "params = dict()\n",
    "params['n_estimators'] = [100]\n",
    "params['criterion'] = ['gini', 'entropy']\n",
    "params['max_depth'] = [80]\n",
    "params['max_samples'] = [0.7]\n",
    "params['max_features'] = [1]\n",
    "params['class_weight']=['balanced_subsample']"
   ]
  },
  {
   "cell_type": "code",
   "execution_count": 96,
   "metadata": {},
   "outputs": [
    {
     "data": {
      "text/plain": [
       "RandomForestClassifier(n_jobs=-1, oob_score=True, random_state=10)"
      ]
     },
     "execution_count": 96,
     "metadata": {},
     "output_type": "execute_result"
    }
   ],
   "source": [
    "from sklearn.ensemble import RandomForestClassifier\n",
    "rf_clf = RandomForestClassifier(n_jobs=-1, random_state=10, oob_score=True, bootstrap=True)\n",
    "rf_clf.fit(X_train, y_train)"
   ]
  },
  {
   "cell_type": "code",
   "execution_count": 97,
   "metadata": {},
   "outputs": [],
   "source": [
    "randomSearch = RandomizedSearchCV(estimator=rf_clf, param_distributions=params, cv=cv, n_jobs=-1, scoring='accuracy')"
   ]
  },
  {
   "cell_type": "code",
   "execution_count": 98,
   "metadata": {},
   "outputs": [
    {
     "name": "stderr",
     "output_type": "stream",
     "text": [
      "/Users/nair/opt/anaconda3/lib/python3.8/site-packages/sklearn/model_selection/_search.py:285: UserWarning: The total space of parameters 2 is smaller than n_iter=10. Running 2 iterations. For exhaustive searches, use GridSearchCV.\n",
      "  warnings.warn(\n",
      "/Users/nair/opt/anaconda3/lib/python3.8/site-packages/joblib/externals/loky/process_executor.py:688: UserWarning: A worker stopped while some jobs were given to the executor. This can be caused by a too short worker timeout or by a memory leak.\n",
      "  warnings.warn(\n"
     ]
    }
   ],
   "source": [
    "result = randomSearch.fit(X_train, y_train)"
   ]
  },
  {
   "cell_type": "code",
   "execution_count": 99,
   "metadata": {},
   "outputs": [
    {
     "data": {
      "text/plain": [
       "RandomForestClassifier(class_weight='balanced_subsample', max_depth=80,\n",
       "                       max_features=1, max_samples=0.7, n_jobs=-1,\n",
       "                       oob_score=True, random_state=10)"
      ]
     },
     "execution_count": 99,
     "metadata": {},
     "output_type": "execute_result"
    }
   ],
   "source": [
    "result.best_estimator_"
   ]
  },
  {
   "cell_type": "code",
   "execution_count": 100,
   "metadata": {},
   "outputs": [
    {
     "data": {
      "text/plain": [
       "0.8141760112809736"
      ]
     },
     "execution_count": 100,
     "metadata": {},
     "output_type": "execute_result"
    }
   ],
   "source": [
    "result.best_score_"
   ]
  },
  {
   "cell_type": "code",
   "execution_count": 101,
   "metadata": {},
   "outputs": [],
   "source": [
    "rfc_best = result.best_estimator_"
   ]
  },
  {
   "cell_type": "code",
   "execution_count": 102,
   "metadata": {},
   "outputs": [
    {
     "data": {
      "text/plain": [
       "RandomForestClassifier(class_weight='balanced_subsample', max_depth=80,\n",
       "                       max_features=1, max_samples=0.7, n_jobs=-1,\n",
       "                       oob_score=True, random_state=10)"
      ]
     },
     "execution_count": 102,
     "metadata": {},
     "output_type": "execute_result"
    }
   ],
   "source": [
    "rfc_best.fit(X_train, y_train)"
   ]
  },
  {
   "cell_type": "code",
   "execution_count": 103,
   "metadata": {},
   "outputs": [],
   "source": [
    "y_predicted_train_rfc = rfc_best.predict(X_train)"
   ]
  },
  {
   "cell_type": "code",
   "execution_count": 104,
   "metadata": {},
   "outputs": [
    {
     "data": {
      "text/plain": [
       "0.9890311384695982"
      ]
     },
     "execution_count": 104,
     "metadata": {},
     "output_type": "execute_result"
    }
   ],
   "source": [
    "accuracy_score(y_train, y_predicted_train_rfc)"
   ]
  },
  {
   "cell_type": "code",
   "execution_count": 105,
   "metadata": {},
   "outputs": [],
   "source": [
    "y_predicted_test_rfc = rfc_best.predict(X_val)"
   ]
  },
  {
   "cell_type": "code",
   "execution_count": 106,
   "metadata": {},
   "outputs": [
    {
     "data": {
      "text/plain": [
       "0.7266752322593398"
      ]
     },
     "execution_count": 106,
     "metadata": {},
     "output_type": "execute_result"
    }
   ],
   "source": [
    "accuracy_score(y_val, y_predicted_test_rfc)"
   ]
  },
  {
   "cell_type": "code",
   "execution_count": 107,
   "metadata": {},
   "outputs": [
    {
     "name": "stdout",
     "output_type": "stream",
     "text": [
      "0.27878471769461466\n"
     ]
    }
   ],
   "source": [
    "f1 = f1_score(y_val, y_predicted_test_rfc)\n",
    "print(f1)"
   ]
  },
  {
   "cell_type": "code",
   "execution_count": 108,
   "metadata": {},
   "outputs": [
    {
     "name": "stdout",
     "output_type": "stream",
     "text": [
      "Accuracy on training set: 1.0\n",
      "Accuracy on test set: 0.729047242538051\n"
     ]
    }
   ],
   "source": [
    "print('Accuracy on training set:',rf_clf.score(X_train,y_train))\n",
    "print('Accuracy on test set:',rf_clf.score(X_val,y_val))"
   ]
  },
  {
   "cell_type": "code",
   "execution_count": 120,
   "metadata": {},
   "outputs": [],
   "source": [
    "from sklearn.model_selection import GridSearchCV\n",
    "from sklearn.neighbors import KNeighborsClassifier\n",
    "#create new a knn model\n",
    "knn = KNeighborsClassifier()"
   ]
  },
  {
   "cell_type": "code",
   "execution_count": 123,
   "metadata": {},
   "outputs": [
    {
     "data": {
      "text/plain": [
       "GridSearchCV(cv=10, estimator=KNeighborsClassifier(),\n",
       "             param_grid={'n_neighbors': array([1, 2, 3, 4])})"
      ]
     },
     "execution_count": 123,
     "metadata": {},
     "output_type": "execute_result"
    }
   ],
   "source": [
    "#create a dictionary of all values we want to test for n_neighbors\n",
    "param_grid = {'n_neighbors': np.arange(1, 5)}\n",
    "#use gridsearch to test all values for n_neighbors\n",
    "knn_gscv = GridSearchCV(knn, param_grid, cv=10)\n",
    "knn_gscv.fit(X_train,y_train)"
   ]
  },
  {
   "cell_type": "code",
   "execution_count": 124,
   "metadata": {},
   "outputs": [
    {
     "data": {
      "text/plain": [
       "GridSearchCV(cv=10, estimator=KNeighborsClassifier(),\n",
       "             param_grid={'n_neighbors': array([1, 2, 3, 4])})"
      ]
     },
     "execution_count": 124,
     "metadata": {},
     "output_type": "execute_result"
    }
   ],
   "source": [
    "knn_gscv"
   ]
  },
  {
   "cell_type": "code",
   "execution_count": 125,
   "metadata": {},
   "outputs": [
    {
     "data": {
      "text/plain": [
       "0.8160509039252475"
      ]
     },
     "execution_count": 125,
     "metadata": {},
     "output_type": "execute_result"
    }
   ],
   "source": [
    "knn_gscv.best_score_"
   ]
  },
  {
   "cell_type": "code",
   "execution_count": 109,
   "metadata": {},
   "outputs": [],
   "source": [
    "# As of now Random forest is giving maxmum accuracy\n"
   ]
  },
  {
   "cell_type": "code",
   "execution_count": 131,
   "metadata": {},
   "outputs": [],
   "source": [
    "#perfomring on Test dataset\n",
    "test=pd.read_csv('/Users/nair/Downloads/Classification1Test.txt',sep=\"\\t\")\n",
    "test_df=test\n",
    "\n",
    "test_df=test[['F1', 'F2', 'F3', 'F4', 'F5', 'F6', 'F7', 'F8', 'F9', 'F10', \n",
    "              'F11', 'F12', 'F13', 'F14', 'F15', 'F16', 'F17', 'F18', 'F19', 'F20',\n",
    "       'F21', 'F22']]"
   ]
  },
  {
   "cell_type": "code",
   "execution_count": 111,
   "metadata": {},
   "outputs": [],
   "source": [
    "high_cardinality_features=['F10','F11','F12','F13','F14']\n",
    "#Dtype=int and High Cardinality hence dropped not requireddd"
   ]
  },
  {
   "cell_type": "code",
   "execution_count": 132,
   "metadata": {},
   "outputs": [
    {
     "name": "stderr",
     "output_type": "stream",
     "text": [
      "/Users/nair/opt/anaconda3/lib/python3.8/site-packages/pandas/core/frame.py:4163: SettingWithCopyWarning: \n",
      "A value is trying to be set on a copy of a slice from a DataFrame\n",
      "\n",
      "See the caveats in the documentation: https://pandas.pydata.org/pandas-docs/stable/user_guide/indexing.html#returning-a-view-versus-a-copy\n",
      "  return super().drop(\n"
     ]
    }
   ],
   "source": [
    "\n",
    "test_df.drop(columns=high_cardinality_features,inplace=True)"
   ]
  },
  {
   "cell_type": "code",
   "execution_count": 133,
   "metadata": {},
   "outputs": [],
   "source": [
    "#THese are date colums  are in objects so need to  sperate it to day date and month\n",
    "date_columns=['F15', 'F16']"
   ]
  },
  {
   "cell_type": "code",
   "execution_count": 134,
   "metadata": {},
   "outputs": [
    {
     "name": "stderr",
     "output_type": "stream",
     "text": [
      "<ipython-input-134-22c7ea6bc292>:2: SettingWithCopyWarning: \n",
      "A value is trying to be set on a copy of a slice from a DataFrame.\n",
      "Try using .loc[row_indexer,col_indexer] = value instead\n",
      "\n",
      "See the caveats in the documentation: https://pandas.pydata.org/pandas-docs/stable/user_guide/indexing.html#returning-a-view-versus-a-copy\n",
      "  test_df[col] = pd.to_datetime(test_df[col])\n"
     ]
    }
   ],
   "source": [
    "for col in date_columns:\n",
    "    test_df[col] = pd.to_datetime(test_df[col])"
   ]
  },
  {
   "cell_type": "code",
   "execution_count": 135,
   "metadata": {},
   "outputs": [
    {
     "name": "stderr",
     "output_type": "stream",
     "text": [
      "<ipython-input-135-89077caf26eb>:2: SettingWithCopyWarning: \n",
      "A value is trying to be set on a copy of a slice from a DataFrame.\n",
      "Try using .loc[row_indexer,col_indexer] = value instead\n",
      "\n",
      "See the caveats in the documentation: https://pandas.pydata.org/pandas-docs/stable/user_guide/indexing.html#returning-a-view-versus-a-copy\n",
      "  test_df['F15_Month'] = test_df['F15'].dt.month\n",
      "<ipython-input-135-89077caf26eb>:3: SettingWithCopyWarning: \n",
      "A value is trying to be set on a copy of a slice from a DataFrame.\n",
      "Try using .loc[row_indexer,col_indexer] = value instead\n",
      "\n",
      "See the caveats in the documentation: https://pandas.pydata.org/pandas-docs/stable/user_guide/indexing.html#returning-a-view-versus-a-copy\n",
      "  test_df['F15_Day'] = test_df['F15'].dt.day\n",
      "<ipython-input-135-89077caf26eb>:4: SettingWithCopyWarning: \n",
      "A value is trying to be set on a copy of a slice from a DataFrame.\n",
      "Try using .loc[row_indexer,col_indexer] = value instead\n",
      "\n",
      "See the caveats in the documentation: https://pandas.pydata.org/pandas-docs/stable/user_guide/indexing.html#returning-a-view-versus-a-copy\n",
      "  test_df['F15_Year'] = test_df['F15'].dt.year\n",
      "<ipython-input-135-89077caf26eb>:6: SettingWithCopyWarning: \n",
      "A value is trying to be set on a copy of a slice from a DataFrame.\n",
      "Try using .loc[row_indexer,col_indexer] = value instead\n",
      "\n",
      "See the caveats in the documentation: https://pandas.pydata.org/pandas-docs/stable/user_guide/indexing.html#returning-a-view-versus-a-copy\n",
      "  test_df['F16_Month'] = test_df['F16'].dt.month\n",
      "<ipython-input-135-89077caf26eb>:7: SettingWithCopyWarning: \n",
      "A value is trying to be set on a copy of a slice from a DataFrame.\n",
      "Try using .loc[row_indexer,col_indexer] = value instead\n",
      "\n",
      "See the caveats in the documentation: https://pandas.pydata.org/pandas-docs/stable/user_guide/indexing.html#returning-a-view-versus-a-copy\n",
      "  test_df['F16_Day'] = test_df['F16'].dt.day\n"
     ]
    }
   ],
   "source": [
    "# Date columns as month day year seperately for analysiss\n",
    "test_df['F15_Month'] = test_df['F15'].dt.month\n",
    "test_df['F15_Day'] = test_df['F15'].dt.day\n",
    "test_df['F15_Year'] = test_df['F15'].dt.year\n",
    "#THis is for the F16 columss\n",
    "test_df['F16_Month'] = test_df['F16'].dt.month\n",
    "test_df['F16_Day'] = test_df['F16'].dt.day\n",
    "test_df['F16_Year'] = test_df['F16'].dt.year"
   ]
  },
  {
   "cell_type": "code",
   "execution_count": 136,
   "metadata": {},
   "outputs": [],
   "source": [
    "#so date colums have been changeed into date time\n",
    " # Droppping the F15 and F16 colums as its no more needed\n",
    "test_df.drop(columns=['F15','F16'],inplace=True) "
   ]
  },
  {
   "cell_type": "code",
   "execution_count": 137,
   "metadata": {},
   "outputs": [
    {
     "data": {
      "text/html": [
       "<div>\n",
       "<style scoped>\n",
       "    .dataframe tbody tr th:only-of-type {\n",
       "        vertical-align: middle;\n",
       "    }\n",
       "\n",
       "    .dataframe tbody tr th {\n",
       "        vertical-align: top;\n",
       "    }\n",
       "\n",
       "    .dataframe thead th {\n",
       "        text-align: right;\n",
       "    }\n",
       "</style>\n",
       "<table border=\"1\" class=\"dataframe\">\n",
       "  <thead>\n",
       "    <tr style=\"text-align: right;\">\n",
       "      <th></th>\n",
       "      <th>F1</th>\n",
       "      <th>F2</th>\n",
       "      <th>F3</th>\n",
       "      <th>F4</th>\n",
       "      <th>F5</th>\n",
       "      <th>F6</th>\n",
       "      <th>F7</th>\n",
       "      <th>F8</th>\n",
       "      <th>F9</th>\n",
       "      <th>F17</th>\n",
       "      <th>...</th>\n",
       "      <th>F19</th>\n",
       "      <th>F20</th>\n",
       "      <th>F21</th>\n",
       "      <th>F22</th>\n",
       "      <th>F15_Month</th>\n",
       "      <th>F15_Day</th>\n",
       "      <th>F15_Year</th>\n",
       "      <th>F16_Month</th>\n",
       "      <th>F16_Day</th>\n",
       "      <th>F16_Year</th>\n",
       "    </tr>\n",
       "  </thead>\n",
       "  <tbody>\n",
       "    <tr>\n",
       "      <th>0</th>\n",
       "      <td>0.654765</td>\n",
       "      <td>0.812009</td>\n",
       "      <td>0.603190</td>\n",
       "      <td>0.391039</td>\n",
       "      <td>-5220</td>\n",
       "      <td>4825</td>\n",
       "      <td>-1784</td>\n",
       "      <td>7447</td>\n",
       "      <td>-7147</td>\n",
       "      <td>1</td>\n",
       "      <td>...</td>\n",
       "      <td>436</td>\n",
       "      <td>478</td>\n",
       "      <td>1</td>\n",
       "      <td>1</td>\n",
       "      <td>9</td>\n",
       "      <td>17</td>\n",
       "      <td>1996</td>\n",
       "      <td>8</td>\n",
       "      <td>18</td>\n",
       "      <td>1990</td>\n",
       "    </tr>\n",
       "    <tr>\n",
       "      <th>1</th>\n",
       "      <td>0.694636</td>\n",
       "      <td>0.690568</td>\n",
       "      <td>0.473460</td>\n",
       "      <td>0.259760</td>\n",
       "      <td>-618</td>\n",
       "      <td>-5018</td>\n",
       "      <td>2012</td>\n",
       "      <td>9259</td>\n",
       "      <td>9267</td>\n",
       "      <td>1</td>\n",
       "      <td>...</td>\n",
       "      <td>138</td>\n",
       "      <td>56</td>\n",
       "      <td>10</td>\n",
       "      <td>4</td>\n",
       "      <td>11</td>\n",
       "      <td>7</td>\n",
       "      <td>1985</td>\n",
       "      <td>4</td>\n",
       "      <td>11</td>\n",
       "      <td>1990</td>\n",
       "    </tr>\n",
       "    <tr>\n",
       "      <th>2</th>\n",
       "      <td>0.203759</td>\n",
       "      <td>0.323301</td>\n",
       "      <td>0.492294</td>\n",
       "      <td>0.011448</td>\n",
       "      <td>-8778</td>\n",
       "      <td>6141</td>\n",
       "      <td>6965</td>\n",
       "      <td>3774</td>\n",
       "      <td>4303</td>\n",
       "      <td>1</td>\n",
       "      <td>...</td>\n",
       "      <td>117</td>\n",
       "      <td>323</td>\n",
       "      <td>10</td>\n",
       "      <td>1</td>\n",
       "      <td>7</td>\n",
       "      <td>9</td>\n",
       "      <td>1984</td>\n",
       "      <td>5</td>\n",
       "      <td>4</td>\n",
       "      <td>1997</td>\n",
       "    </tr>\n",
       "    <tr>\n",
       "      <th>3</th>\n",
       "      <td>0.319627</td>\n",
       "      <td>0.286247</td>\n",
       "      <td>0.906197</td>\n",
       "      <td>0.093840</td>\n",
       "      <td>-7929</td>\n",
       "      <td>4471</td>\n",
       "      <td>7715</td>\n",
       "      <td>9543</td>\n",
       "      <td>335</td>\n",
       "      <td>1</td>\n",
       "      <td>...</td>\n",
       "      <td>115</td>\n",
       "      <td>149</td>\n",
       "      <td>16</td>\n",
       "      <td>21</td>\n",
       "      <td>6</td>\n",
       "      <td>3</td>\n",
       "      <td>1987</td>\n",
       "      <td>7</td>\n",
       "      <td>1</td>\n",
       "      <td>1988</td>\n",
       "    </tr>\n",
       "    <tr>\n",
       "      <th>4</th>\n",
       "      <td>0.236003</td>\n",
       "      <td>0.782784</td>\n",
       "      <td>0.285689</td>\n",
       "      <td>0.383585</td>\n",
       "      <td>-3296</td>\n",
       "      <td>4564</td>\n",
       "      <td>-1580</td>\n",
       "      <td>-8559</td>\n",
       "      <td>-27</td>\n",
       "      <td>1</td>\n",
       "      <td>...</td>\n",
       "      <td>527</td>\n",
       "      <td>281</td>\n",
       "      <td>3</td>\n",
       "      <td>1</td>\n",
       "      <td>7</td>\n",
       "      <td>17</td>\n",
       "      <td>1984</td>\n",
       "      <td>12</td>\n",
       "      <td>3</td>\n",
       "      <td>1993</td>\n",
       "    </tr>\n",
       "  </tbody>\n",
       "</table>\n",
       "<p>5 rows × 21 columns</p>\n",
       "</div>"
      ],
      "text/plain": [
       "         F1        F2        F3        F4    F5    F6    F7    F8    F9  F17  \\\n",
       "0  0.654765  0.812009  0.603190  0.391039 -5220  4825 -1784  7447 -7147    1   \n",
       "1  0.694636  0.690568  0.473460  0.259760  -618 -5018  2012  9259  9267    1   \n",
       "2  0.203759  0.323301  0.492294  0.011448 -8778  6141  6965  3774  4303    1   \n",
       "3  0.319627  0.286247  0.906197  0.093840 -7929  4471  7715  9543   335    1   \n",
       "4  0.236003  0.782784  0.285689  0.383585 -3296  4564 -1580 -8559   -27    1   \n",
       "\n",
       "   ...  F19  F20  F21  F22  F15_Month  F15_Day  F15_Year  F16_Month  F16_Day  \\\n",
       "0  ...  436  478    1    1          9       17      1996          8       18   \n",
       "1  ...  138   56   10    4         11        7      1985          4       11   \n",
       "2  ...  117  323   10    1          7        9      1984          5        4   \n",
       "3  ...  115  149   16   21          6        3      1987          7        1   \n",
       "4  ...  527  281    3    1          7       17      1984         12        3   \n",
       "\n",
       "   F16_Year  \n",
       "0      1990  \n",
       "1      1990  \n",
       "2      1997  \n",
       "3      1988  \n",
       "4      1993  \n",
       "\n",
       "[5 rows x 21 columns]"
      ]
     },
     "execution_count": 137,
     "metadata": {},
     "output_type": "execute_result"
    }
   ],
   "source": [
    "test_df.head()"
   ]
  },
  {
   "cell_type": "code",
   "execution_count": 138,
   "metadata": {},
   "outputs": [],
   "source": [
    "test_df.drop(columns=['F15_Month', 'F15_Day','F16_Month', 'F16_Day'],inplace=True)"
   ]
  },
  {
   "cell_type": "code",
   "execution_count": 139,
   "metadata": {},
   "outputs": [],
   "source": [
    "test_train=test_df[['F1', 'F2', 'F3', 'F4', 'F5', 'F6', 'F7', 'F8', 'F9', 'F17', 'F18',\n",
    "       'F19', 'F20', 'F21', 'F22', 'F15_Year', 'F16_Year']]"
   ]
  },
  {
   "cell_type": "code",
   "execution_count": 143,
   "metadata": {},
   "outputs": [],
   "source": [
    "date_columns=['F15_Year', 'F16_Year']"
   ]
  },
  {
   "cell_type": "code",
   "execution_count": 140,
   "metadata": {},
   "outputs": [],
   "source": [
    "for col in categorical_features:\n",
    "    test_train[col] = test_train[col].astype(object)"
   ]
  },
  {
   "cell_type": "code",
   "execution_count": 141,
   "metadata": {},
   "outputs": [],
   "source": [
    "for col in continous_features:\n",
    "    test_train[col] = test_train[col].astype(float)"
   ]
  },
  {
   "cell_type": "code",
   "execution_count": 144,
   "metadata": {},
   "outputs": [],
   "source": [
    "categorical_tdf = test_train[categorical_features]\n",
    "cont_tdf = test_train[continous_features]\n",
    "date_tdf=test_train[date_columns]"
   ]
  },
  {
   "cell_type": "code",
   "execution_count": 145,
   "metadata": {},
   "outputs": [],
   "source": [
    "dummies_tdf = pd.get_dummies(data=test_train[categorical_features], drop_first=True)"
   ]
  },
  {
   "cell_type": "code",
   "execution_count": 146,
   "metadata": {},
   "outputs": [],
   "source": [
    "test_concat = pd.concat([cont_tdf, dummies_tdf,date_tdf], axis=1)"
   ]
  },
  {
   "cell_type": "code",
   "execution_count": 147,
   "metadata": {},
   "outputs": [
    {
     "data": {
      "text/plain": [
       "((19913, 61), (19913, 11), (19913, 48))"
      ]
     },
     "execution_count": 147,
     "metadata": {},
     "output_type": "execute_result"
    }
   ],
   "source": [
    "test_concat.shape,cont_tdf.shape, dummies_tdf.shape"
   ]
  },
  {
   "cell_type": "code",
   "execution_count": 150,
   "metadata": {},
   "outputs": [],
   "source": [
    "X = df_concat\n",
    "y = data_copy['C']"
   ]
  },
  {
   "cell_type": "code",
   "execution_count": 151,
   "metadata": {},
   "outputs": [],
   "source": [
    "X_Test= test_concat"
   ]
  },
  {
   "cell_type": "code",
   "execution_count": 156,
   "metadata": {},
   "outputs": [
    {
     "data": {
      "text/plain": [
       "19913"
      ]
     },
     "execution_count": 156,
     "metadata": {},
     "output_type": "execute_result"
    }
   ],
   "source": [
    "y_final_output = rfc_best.predict(X_Test)\n",
    "len(y_final_output)"
   ]
  },
  {
   "cell_type": "code",
   "execution_count": 157,
   "metadata": {},
   "outputs": [],
   "source": [
    "test['C-Outout']=y_final_output"
   ]
  },
  {
   "cell_type": "code",
   "execution_count": 163,
   "metadata": {},
   "outputs": [
    {
     "data": {
      "text/plain": [
       "Index(['Index', 'F1', 'F2', 'F3', 'F4', 'F5', 'F6', 'F7', 'F8', 'F9', 'F10',\n",
       "       'F11', 'F12', 'F13', 'F14', 'F15', 'F16', 'F17', 'F18', 'F19', 'F20',\n",
       "       'F21', 'F22', 'C-Outout'],\n",
       "      dtype='object')"
      ]
     },
     "execution_count": 163,
     "metadata": {},
     "output_type": "execute_result"
    }
   ],
   "source": [
    "test.columns "
   ]
  },
  {
   "cell_type": "code",
   "execution_count": 164,
   "metadata": {},
   "outputs": [],
   "source": [
    "test.drop(columns=['F1', 'F2', 'F3', 'F4', 'F5', 'F6', 'F7', 'F8', 'F9', 'F10',\n",
    "       'F11', 'F12', 'F13', 'F14', 'F15', 'F16', 'F17', 'F18', 'F19', 'F20',\n",
    "       'F21', 'F22'],inplace=True) "
   ]
  },
  {
   "cell_type": "code",
   "execution_count": 165,
   "metadata": {},
   "outputs": [],
   "source": [
    "test.to_csv('Testt_final.csv', index=False)"
   ]
  },
  {
   "cell_type": "code",
   "execution_count": null,
   "metadata": {},
   "outputs": [],
   "source": [
    "# perfomed all the operation on test and saved the file "
   ]
  }
 ],
 "metadata": {
  "kernelspec": {
   "display_name": "Python 3.8.5 64-bit ('base': conda)",
   "language": "python",
   "name": "python385jvsc74a57bd06be0e09cb384788df3819bc985586e1e93b3f3971d2dccb39b01b22b3a5ce9cd"
  },
  "language_info": {
   "codemirror_mode": {
    "name": "ipython",
    "version": 3
   },
   "file_extension": ".py",
   "mimetype": "text/x-python",
   "name": "python",
   "nbconvert_exporter": "python",
   "pygments_lexer": "ipython3",
   "version": "3.8.5"
  }
 },
 "nbformat": 4,
 "nbformat_minor": 4
}
